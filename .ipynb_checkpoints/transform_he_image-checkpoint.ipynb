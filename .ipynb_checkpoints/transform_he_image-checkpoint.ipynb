{
 "cells": [
  {
   "cell_type": "code",
   "execution_count": 1,
   "id": "82e7700c-5030-4079-9d59-4f6d9742e4a9",
   "metadata": {},
   "outputs": [],
   "source": [
    "#%%\n",
    "import os \n",
    "import pandas as pd \n",
    "import numpy as np \n",
    "import tifffile as tf\n",
    "from skimage.transform import AffineTransform, warp\n",
    "from skimage.transform import rotate\n",
    "from tqdm import tqdm\n",
    "import matplotlib.pyplot as plt\n"
   ]
  },
  {
   "cell_type": "code",
   "execution_count": null,
   "id": "57ff335c",
   "metadata": {},
   "outputs": [],
   "source": [
    "\n",
    "cancer = \"lung\" # Only implemented for lung so far\n",
    "xenium_folder_dict = {\"lung\": \"Xenium_Prime_Human_Lung_Cancer_FFPE_outs\",\n",
    "                      \"breast\":\"Xenium_Prime_Breast_Cancer_FFPE_outs\",\n",
    "                      \"lymph_node\": \"Xenium_Prime_Human_Lymph_Node_Reactive_FFPE_outs\",\n",
    "                      \"prostate\": \"Xenium_Prime_Human_Prostate_FFPE_outs\",\n",
    "                      \"skin\": \"Xenium_Prime_Human_Skin_FFPE_outs\",\n",
    "                      \"ovarian\": \"Xenium_Prime_Ovarian_Cancer_FFPE_outs\",\n",
    "                      \"cervical\": \"Xenium_Prime_Cervical_Cancer_FFPE_outs\"\n",
    "                      }\n",
    "\n",
    "xenium_folder = xenium_folder_dict[cancer]\n",
    "\n",
    "data_path = f\"/rsrch9/home/plm/idso_fa1_pathology/TIER1/paul-xenium/public_data/10x_genomics/{xenium_folder}\""
   ]
  },
  {
   "cell_type": "code",
   "execution_count": 2,
   "id": "13b7715e-b5d6-49b7-b0bb-2cddcbf29a6e",
   "metadata": {},
   "outputs": [],
   "source": [
    "#%% Parse Alignment file \n",
    "# Load the alignment file\n",
    "alignment_path = f\"{data_path}/Xenium_Prime_Human_Lung_Cancer_FFPE_he_imagealignment.csv\"\n",
    "\n",
    "alignment = pd.read_csv(alignment_path)\n",
    "\n",
    "# Alignment matrix\n",
    "alignment_matrix = np.array([\n",
    "    [float(num) for num in alignment.columns.values],\n",
    "    list(alignment.iloc[0].values),\n",
    "    list(alignment.iloc[1].values),\n",
    "])"
   ]
  },
  {
   "cell_type": "code",
   "execution_count": 3,
   "id": "b8bc9d79-0ae7-4c20-b87e-7a7a5531be57",
   "metadata": {},
   "outputs": [],
   "source": [
    "#%% Load Images\n",
    "\n",
    "# Load the H&E and imF images\n",
    "he_image_path = f\"{data_path}/Xenium_Prime_Human_Lung_Cancer_FFPE_he_image.ome.tif\"\n",
    "imf_image_path = f\"{data_path}/morphology.ome.tif\"\n",
    "\n",
    "he_image = tf.imread(he_image_path)  # H&E image\n",
    "imf_image = tf.imread(imf_image_path)  # imF image"
   ]
  },
  {
   "cell_type": "code",
   "execution_count": 4,
   "id": "106e01e7-6dc4-495b-88c8-e816304086ce",
   "metadata": {},
   "outputs": [
    {
     "name": "stdout",
     "output_type": "stream",
     "text": [
      "H&E image shape: (43270, 26720, 3)\n",
      "iMF image shape: (17, 37348, 54086)\n"
     ]
    }
   ],
   "source": [
    "print(\"H&E image shape:\", he_image.shape)\n",
    "print(\"iMF image shape:\", imf_image.shape)"
   ]
  },
  {
   "cell_type": "code",
   "execution_count": 5,
   "id": "f3ecf644-ede2-4a30-a2d3-7a9844f3a629",
   "metadata": {},
   "outputs": [],
   "source": [
    "# plt.figure(figsize=(10, 10))\n",
    "# plt.imshow(he_image) \n",
    "# plt.axis(\"off\")\n",
    "# plt.title(\"HE Image\")\n",
    "# plt.show()"
   ]
  },
  {
   "cell_type": "code",
   "execution_count": 6,
   "id": "46f11d6f-4f1e-48cf-bbf8-1c12a8976393",
   "metadata": {},
   "outputs": [
    {
     "name": "stdout",
     "output_type": "stream",
     "text": [
      "Aligned H&E image shape: (37348, 54086, 3)\n"
     ]
    }
   ],
   "source": [
    "# Extract the transformation parameters from the matrix\n",
    "alignment_transform = AffineTransform(matrix=alignment_matrix)\n",
    "he_image_float = he_image/255\n",
    "\n",
    "# Apply the affine transformation to the rescaled H&E image\n",
    "registered_he_image = warp(\n",
    "    he_image_float, \n",
    "    inverse_map=alignment_transform.inverse,  # apply the inverse of the given transform\n",
    "    preserve_range=True,            # maintain original intensity range\n",
    "    output_shape=(imf_image.shape[1], imf_image.shape[2],3),  # match shape of imf image\n",
    "    mode='constant',                # how to handle boundaries\n",
    "    cval=0                          # fill value outside boundaries\n",
    ")\n",
    "\n",
    "print(\"Aligned H&E image shape:\", registered_he_image.shape)"
   ]
  },
  {
   "cell_type": "code",
   "execution_count": 7,
   "id": "d639ec59-d2ec-45ae-9562-421f7789464c",
   "metadata": {},
   "outputs": [],
   "source": [
    "# # Apply the affine transformation to the rescaled H&E image\n",
    "# registered_he_image_noShape = warp(\n",
    "#     he_image_float, \n",
    "#     inverse_map=alignment_transform.inverse,  # apply the inverse of the given transform\n",
    "#     preserve_range=True,            # maintain original intensity range\n",
    "#     mode='constant',                # how to handle boundaries\n",
    "#     cval=0                          # fill value outside boundaries\n",
    "# )\n",
    "\n",
    "# print(\"Aligned Scaled H&E image shape:\", registered_he_image_noShape.shape)"
   ]
  },
  {
   "cell_type": "code",
   "execution_count": 8,
   "id": "920a30e5-8239-47e2-8049-ab217fa90455",
   "metadata": {},
   "outputs": [],
   "source": [
    "# plt.figure(figsize=(10, 10))\n",
    "# # plt.imshow(imf_channel, alpha=0.5)  # Fluorescence image in grayscale\n",
    "# plt.imshow(registered_he_image)  # Aligned H&E red channel\n",
    "# plt.axis(\"off\")\n",
    "# plt.title(\"Aligned HE Image\")\n",
    "\n",
    "# plt.show()"
   ]
  },
  {
   "cell_type": "code",
   "execution_count": 9,
   "id": "f462fedd-226b-4d1d-b273-50947722f668",
   "metadata": {},
   "outputs": [],
   "source": [
    "# plt.figure(figsize=(10, 10))\n",
    "# # plt.imshow(imf_channel, alpha=0.5)  # Fluorescence image in grayscale\n",
    "# plt.imshow(registered_he_image_noShape)  # Aligned H&E red channel\n",
    "# plt.axis(\"off\")\n",
    "# plt.title(\"Aligned HE Image\")\n",
    "\n",
    "# plt.show()"
   ]
  },
  {
   "cell_type": "code",
   "execution_count": 10,
   "id": "5ec60448-9006-4a8f-b68e-a2e8413861ef",
   "metadata": {},
   "outputs": [],
   "source": [
    "# registered_he_image.shape"
   ]
  },
  {
   "cell_type": "code",
   "execution_count": 11,
   "id": "1ebff15f-d47a-4614-bfa0-4ea16cf938ab",
   "metadata": {},
   "outputs": [],
   "source": [
    "# registered_he_image_noShape.shape"
   ]
  },
  {
   "cell_type": "code",
   "execution_count": 12,
   "id": "e0fda00f-f89f-4406-9dd9-ed92de78db2d",
   "metadata": {},
   "outputs": [],
   "source": [
    "# plt.imshow(imf_image[10])\n"
   ]
  },
  {
   "cell_type": "code",
   "execution_count": 13,
   "id": "c9ecb66d-eb52-487b-8748-d77cbb301243",
   "metadata": {},
   "outputs": [
    {
     "name": "stderr",
     "output_type": "stream",
     "text": [
      "/usr/local/lib/python3.10/dist-packages/tifffile/tifffile.py:2452: UserWarning: <tifffile.TiffWriter 'Xenium_Prime_Hu…gistered.ome.tif'> not writing description to OME-TIFF\n",
      "  warnings.warn(\n"
     ]
    }
   ],
   "source": [
    "output_path = f\"{data_path}/Xenium_Prime_Human_Lung_Cancer_FFPE_he_image_coregistered.ome.tif\"\n",
    "\n",
    "# Extract original OME XML from original image\n",
    "with tf.TiffFile(he_image_path) as original_tif:\n",
    "    original_ome_xml = original_tif.ome_metadata\n",
    "    \n",
    "registered_he_image_uint8 = (registered_he_image * 255).astype(np.uint8)\n",
    "\n",
    "tf.imwrite(\n",
    "    output_path,\n",
    "    registered_he_image_uint8,\n",
    "    photometric='rgb',\n",
    "    description=original_ome_xml, # reuse original OME-XML metadata\n",
    "    metadata={'axes': 'YXC'},     # ensure axes are known\n",
    "    ome=True\n",
    ")"
   ]
  },
  {
   "cell_type": "code",
   "execution_count": 14,
   "id": "df28a8b6-11f2-4720-99f6-c0980a11cd7c",
   "metadata": {},
   "outputs": [
    {
     "name": "stdout",
     "output_type": "stream",
     "text": [
      "TiffFile 'Xenium_Prime_Hum…e_image.ome.tif'  2.71 GiB  big-endian  BigTiff  ome\n",
      "Tiled: True\n",
      "Number of sub-resolution levels: 6\n",
      "SubIFD 0: 2178322033\n",
      "SubIFD 1: 2719848373\n",
      "SubIFD 2: 2857662812\n",
      "SubIFD 3: 2893109377\n",
      "SubIFD 4: 2902179961\n",
      "SubIFD 5: 2904496999\n"
     ]
    }
   ],
   "source": [
    "import tifffile\n",
    "\n",
    "with tifffile.TiffFile(he_image_path) as tif:\n",
    "    # Print overall structure\n",
    "    print(tif)\n",
    "\n",
    "    # Inspect the main image page\n",
    "    main_page = tif.pages[0]\n",
    "\n",
    "    # Check for tile dimensions\n",
    "    # If tilewidth and tilelength are present, it is tiled\n",
    "    is_tiled = (main_page.tilewidth is not None and main_page.tilelength is not None)\n",
    "    print(\"Tiled:\", is_tiled)\n",
    "\n",
    "    # Check for sub-resolution levels (subIFDs)\n",
    "    # If subifds are present, it often indicates a pyramidal image\n",
    "    if hasattr(main_page, 'subifds') and main_page.subifds:\n",
    "        print(\"Number of sub-resolution levels:\", len(main_page.subifds))\n",
    "        for i, subifd in enumerate(main_page.subifds):\n",
    "            print(f\"SubIFD {i}: {subifd}\")\n",
    "    else:\n",
    "        print(\"No subIFDs found (not pyramidal)\")\n",
    "\n",
    "    # If multiple TIFF pages represent multiple resolutions,\n",
    "    # it may also be pyramidal. Some pyramidal OME-TIFFs store levels as subIFDs.\n"
   ]
  },
  {
   "cell_type": "code",
   "execution_count": 15,
   "id": "20cea098-55c9-4095-b1c0-49f6da82c306",
   "metadata": {},
   "outputs": [],
   "source": [
    "import tifffile\n",
    "from skimage.transform import resize\n",
    "\n",
    "# Suppose `registered_he_image` is your co-registered full-res image, shape (Y, X, C)\n",
    "# Extract tile dimensions from original image\n",
    "with tifffile.TiffFile(he_image_path) as original_tif:\n",
    "    tile_width = original_tif.pages[0].tilewidth\n",
    "    tile_height = original_tif.pages[0].tilelength\n",
    "    # Determine scaling factors from original subIFDs if needed\n",
    "    num_subifds = len(original_tif.pages[0].subifds)  # number of sub-resolution levels\n",
    "\n",
    "\n",
    "# Generate pyramid\n",
    "levels = [registered_he_image_uint8]\n",
    "for i in tqdm(range(num_subifds)):\n",
    "    scale_factor = 2 ** (i+1)  # Example: if original halves each time, adjust as needed\n",
    "    downsampled = resize(\n",
    "        registered_he_image_uint8,\n",
    "        (registered_he_image_uint8.shape[0] // scale_factor, registered_he_image_uint8.shape[1] // scale_factor, registered_he_image_uint8.shape[2]),\n",
    "        preserve_range=True,\n",
    "        anti_aliasing=True\n",
    "    ).astype(registered_he_image_uint8.dtype)\n",
    "    levels.append(downsampled)\n",
    " "
   ]
  },
  {
   "cell_type": "code",
   "execution_count": 16,
   "id": "9a3e692f-8b32-4222-8bcf-2481fac778bf",
   "metadata": {},
   "outputs": [],
   "source": [
    "np.savez_compressed(f\"{data_path}/pyramid_levels.npz\", *levels)\n",
    "    "
   ]
  },
  {
   "cell_type": "code",
   "execution_count": 22,
   "id": "9547461d-3329-4203-974d-64c22807ef3c",
   "metadata": {},
   "outputs": [],
   "source": [
    "output_path = f\"{data_path}/Xenium_Prime_Human_Lung_Cancer_FFPE_he_image_coregistered_tiled.ome.tif\"\n",
    "\n",
    "# Number of sub-resolution levels (excluding the main resolution)\n",
    "subresolutions = len(levels) - 1\n",
    "\n",
    "# Basic OME metadata\n",
    "metadata = {\n",
    "    'axes': 'YXC',  # Y = height, X = width, C = channels\n",
    "    'PhysicalSizeX': 0.2737674665532592,\n",
    "    'PhysicalSizeXUnit': 'µm',\n",
    "    'PhysicalSizeY': 0.27377070704805734,\n",
    "    'PhysicalSizeYUnit': 'µm',\n",
    "}\n",
    "\n",
    "# Options for writing each level\n",
    "options = dict(\n",
    "    photometric='rgb',     # since it's an RGB image\n",
    "    tile=(tile_height, tile_width),\n",
    "    compression=None,    # optional, use 'none' if you don't want compression\n",
    "    # resolutionunit='CENTIMETER',  # optional, set according to your data\n",
    "    # You can also set 'resolution' if you know pixel sizes:\n",
    "    # resolution=(1e4/0.29, 1e4/0.29) for example if pixel size is 0.29 µm\n",
    ")\n",
    "\n",
    "# Write the pyramidal OME-TIFF\n",
    "with tifffile.TiffWriter(output_path, bigtiff=True) as tif:\n",
    "    # Write the base (full-resolution) level, specifying how many subIFDs to expect\n",
    "    tif.write(\n",
    "        levels[0],\n",
    "        subifds=subresolutions,\n",
    "        metadata=metadata,\n",
    "        **options\n",
    "    )\n",
    "\n",
    "    # Write each sub-resolution level as a SubIFD\n",
    "    # subfiletype=1 indicates a reduced-resolution image\n",
    "    for lvl in levels[1:]:\n",
    "        tif.write(\n",
    "            lvl,\n",
    "            subfiletype=1,\n",
    "            # If the resolution changes for each level, adjust it accordingly.\n",
    "            # For example, if each level is half the previous dimension:\n",
    "            # resolution=(1e4/(0.29*(2**level_index)), 1e4/(0.29*(2**level_index)))\n",
    "            **options\n",
    "        )\n"
   ]
  },
  {
   "cell_type": "code",
   "execution_count": 18,
   "id": "7324ae2a-dc06-4dbb-8aa8-f3ee20db2934",
   "metadata": {},
   "outputs": [
    {
     "data": {
      "text/plain": [
       "'<?xml version=\"1.0\" encoding=\"UTF-8\" standalone=\"no\"?><!-- Warning: this comment is an OME-XML metadata block, which contains crucial dimensional parameters and other important metadata. Please edit cautiously (if at all), and back up the original data before doing so. For more information, see the OME-TIFF web site: https://docs.openmicroscopy.org/latest/ome-model/ome-tiff/. --><OME xmlns=\"http://www.openmicroscopy.org/Schemas/OME/2016-06\" xmlns:xsi=\"http://www.w3.org/2001/XMLSchema-instance\" Creator=\"OME Bio-Formats 6.12.0\" UUID=\"urn:uuid:a3665a67-4b39-4d37-ba76-207ac8b00d03\" xsi:schemaLocation=\"http://www.openmicroscopy.org/Schemas/OME/2016-06 http://www.openmicroscopy.org/Schemas/OME/2016-06/ome.xsd\"><Image ID=\"Image:0\"><Pixels BigEndian=\"true\" DimensionOrder=\"XYCZT\" ID=\"Pixels:0\" Interleaved=\"true\" PhysicalSizeX=\"0.2737674665532592\" PhysicalSizeXUnit=\"µm\" PhysicalSizeY=\"0.27377070704805734\" PhysicalSizeYUnit=\"µm\" SizeC=\"3\" SizeT=\"1\" SizeX=\"26720\" SizeY=\"43270\" SizeZ=\"1\" Type=\"uint8\"><Channel ID=\"Channel:0\" SamplesPerPixel=\"3\"><LightPath/></Channel><TiffData FirstC=\"0\" FirstT=\"0\" FirstZ=\"0\" IFD=\"0\" PlaneCount=\"1\"><UUID FileName=\"APPS123_26312_HD_post_Xenium-Prime_02.ome.tif\">urn:uuid:a3665a67-4b39-4d37-ba76-207ac8b00d03</UUID></TiffData></Pixels></Image><StructuredAnnotations><MapAnnotation ID=\"Annotation:Resolution:0\" Namespace=\"openmicroscopy.org/PyramidResolution\"><Value><M K=\"1\">13360 21635</M><M K=\"2\">6680 10818</M><M K=\"3\">3340 5409</M><M K=\"4\">1670 2705</M><M K=\"5\">835 1353</M><M K=\"6\">418 677</M></Value></MapAnnotation></StructuredAnnotations></OME>'"
      ]
     },
     "execution_count": 18,
     "metadata": {},
     "output_type": "execute_result"
    }
   ],
   "source": [
    "original_ome_xml"
   ]
  },
  {
   "cell_type": "code",
   "execution_count": 32,
   "id": "141c9ba3-8ba6-4227-843b-f19d8ca8b108",
   "metadata": {},
   "outputs": [],
   "source": [
    "import pickle\n",
    "param = pickle.load(open(\"/rsrch6/home/trans_mol_path/yuan_lab/code/aitil_t6/output_pa/1_cws_tiling/CytAssist_11mm_FFPE_Human_Colorectal_Cancer_tissue_image.tif/param.p\", \"rb\"))"
   ]
  },
  {
   "cell_type": "code",
   "execution_count": null,
   "id": "e7f1eb45-2b77-4f98-a037-381216f3b0e5",
   "metadata": {},
   "outputs": [],
   "source": []
  },
  {
   "cell_type": "code",
   "execution_count": 34,
   "id": "71588e46-06df-423e-a316-44efd150af45",
   "metadata": {},
   "outputs": [
    {
     "data": {
      "text/plain": [
       "{'exp_dir': 'output_pa/1_cws_tiling/CytAssist_11mm_FFPE_Human_Colorectal_Cancer_tissue_image.tif',\n",
       " 'objective_power': 40,\n",
       " 'slide_dimension': (51996, 44403),\n",
       " 'rescale': 1.6069273766426981,\n",
       " 'cws_objective_value': 24.892226357839967,\n",
       " 'filename': 'CytAssist_11mm_FFPE_Human_Colorectal_Cancer_tissue_image.tif',\n",
       " 'cws_read_size': array([2000, 2000])}"
      ]
     },
     "execution_count": 34,
     "metadata": {},
     "output_type": "execute_result"
    }
   ],
   "source": [
    "param"
   ]
  },
  {
   "cell_type": "code",
   "execution_count": 37,
   "id": "a1036dbd-9e09-4043-95b0-19d1256cfab0",
   "metadata": {},
   "outputs": [],
   "source": [
    "param[\"slide_dimension\"]=(37348, 54086)\n",
    "param[\"filename\"]=\"Xenium_Prime_Human_Lung_Cancer_FFPE_he_image_coregistered.ome.tif\"\n",
    "param[\"exp_dir\"] = \"output_pa/1_cws_tiling//Xenium_Prime_Human_Lung_Cancer_FFPE_he_image_coregistered.ome.tif\"\n",
    "param[\"cws_objective_value\"]= 27.377070704805734"
   ]
  },
  {
   "cell_type": "code",
   "execution_count": 38,
   "id": "2aea8f60-eb24-4fd1-8b18-feebd7fc291a",
   "metadata": {},
   "outputs": [
    {
     "data": {
      "text/plain": [
       "{'exp_dir': 'output_pa/1_cws_tiling//Xenium_Prime_Human_Lung_Cancer_FFPE_he_image_coregistered.ome.tif',\n",
       " 'objective_power': 40,\n",
       " 'slide_dimension': (37348, 54086),\n",
       " 'rescale': 1.6069273766426981,\n",
       " 'cws_objective_value': 27.377070704805735,\n",
       " 'filename': 'Xenium_Prime_Human_Lung_Cancer_FFPE_he_image_coregistered.ome.tif',\n",
       " 'cws_read_size': array([2000, 2000])}"
      ]
     },
     "execution_count": 38,
     "metadata": {},
     "output_type": "execute_result"
    }
   ],
   "source": [
    "param"
   ]
  },
  {
   "cell_type": "code",
   "execution_count": 39,
   "id": "701f7124-7cda-4242-912a-31075c783b69",
   "metadata": {},
   "outputs": [],
   "source": [
    "pickle.dump(param, open(\"/rsrch6/home/trans_mol_path/yuan_lab/code/aitil_t6/output_pa/1_cws_tiling/Xenium_Prime_Human_Lung_Cancer_FFPE_he_image_coregistered.ome.tif/param.p\", \"wb\"))\n"
   ]
  },
  {
   "cell_type": "code",
   "execution_count": null,
   "id": "be78c59e-c646-44d4-9049-a7229fec08a5",
   "metadata": {},
   "outputs": [],
   "source": []
  }
 ],
 "metadata": {
  "kernelspec": {
   "display_name": "phacosta",
   "language": "python",
   "name": "phacosta"
  },
  "language_info": {
   "codemirror_mode": {
    "name": "ipython",
    "version": 3
   },
   "file_extension": ".py",
   "mimetype": "text/x-python",
   "name": "python",
   "nbconvert_exporter": "python",
   "pygments_lexer": "ipython3",
   "version": "3.10.12"
  }
 },
 "nbformat": 4,
 "nbformat_minor": 5
}
