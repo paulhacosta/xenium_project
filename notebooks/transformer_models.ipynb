{
 "cells": [
  {
   "cell_type": "code",
   "execution_count": null,
   "id": "0a478814-6b9e-4c3a-96fd-ec509798d051",
   "metadata": {},
   "outputs": [],
   "source": [
    "#%%\n",
    "import os\n",
    "import numpy as np \n",
    "import pandas as pd \n",
    "import scanpy as sc \n",
    "import matplotlib.pyplot as plt\n",
    "from tqdm import tqdm  # Import tqdm\n",
    "\n",
    "import torch\n",
    "import torch.nn as nn\n",
    "import torch.nn.functional as F\n",
    "import torch.optim as optim\n",
    "from torch.utils.data import Dataset, DataLoader, Subset\n",
    "from torchmetrics import Accuracy\n",
    "\n",
    "from sklearn.model_selection import train_test_split\n",
    "from sklearn.utils.class_weight import compute_class_weight\n",
    "from sklearn.metrics import classification_report, confusion_matrix\n",
    "from sklearn.metrics import ConfusionMatrixDisplay"
   ]
  },
  {
   "cell_type": "code",
   "execution_count": null,
   "id": "2f4a5fbe-9001-4e6e-b6db-e4584102ec33",
   "metadata": {
    "scrolled": true
   },
   "outputs": [],
   "source": [
    "#%%\n",
    "# Select platform\n",
    "platform = \"xenium\" # xenium or visium \n",
    "ground_truth = \"refined\"  # refined or cellvit\n",
    "level = 0\n",
    "filtered_genes = False\n",
    "label_source = \"singleR\"  # singleR, celltypist, aistil, combined\n",
    "use_qc = False\n",
    "morph_version = \"v2\"\n",
    "use_projections = True\n",
    "limit_classes = True  # Set to False to use all classes\n",
    "\n",
    "\n",
    "if platform == \"xenium\":\n",
    "    cancer = \"lung\"\n",
    "    xenium_folder_dict = {\"lung\": \"Xenium_Prime_Human_Lung_Cancer_FFPE_outs\",\n",
    "                          \"breast\":\"Xenium_Prime_Breast_Cancer_FFPE_outs\",\n",
    "                          \"lymph_node\": \"Xenium_Prime_Human_Lymph_Node_Reactive_FFPE_outs\",\n",
    "                          \"prostate\": \"Xenium_Prime_Human_Prostate_FFPE_outs\",\n",
    "                          \"skin\": \"Xenium_Prime_Human_Skin_FFPE_outs\",\n",
    "                          \"ovarian\": \"Xenium_Prime_Ovarian_Cancer_FFPE_outs\",\n",
    "                          \"cervical\": \"Xenium_Prime_Cervical_Cancer_FFPE_outs\"\n",
    "                          }\n",
    "\n",
    "    xenium_folder = xenium_folder_dict[cancer]\n",
    "    celltypist_data_path = f\"/rsrch9/home/plm/idso_fa1_pathology/TIER1/paul-xenium/public_data/10x_genomics/{xenium_folder}/preprocessed/fine_tune_{ground_truth}_v2/processed_xenium_data_fine_tune_{ground_truth}_ImmuneHigh_v2.h5ad\"\n",
    "    singleR_data_path = f\"/rsrch9/home/plm/idso_fa1_pathology/TIER1/paul-xenium/public_data/10x_genomics/{xenium_folder}/preprocessed/fine_tune_{ground_truth}_v2/processed_xenium_data_fine_tune_{ground_truth}_v2_annotated.h5ad\"\n",
    "    embedding_dir = f\"/rsrch9/home/plm/idso_fa1_pathology/TIER2/paul-xenium/embeddings/public_data/{xenium_folder}\"\n",
    "    gene_emb_path = f\"{embedding_dir}/scGPT/scGPT_CP.h5ad\"\n",
    "\n",
    "    if filtered_genes:\n",
    "        gene_embedding_file = f\"/rsrch9/home/plm/idso_fa1_pathology/TIER2/paul-xenium/embeddings/public_data/{xenium_folder}/processed_xenium_refined_clustering_filtered_v2.csv\"\n",
    "    else:\n",
    "        gene_embedding_file = f\"/rsrch9/home/plm/idso_fa1_pathology/TIER2/paul-xenium/embeddings/public_data/{xenium_folder}/processed_xenium_{ground_truth}_v2.csv\"\n",
    "\n",
    "    results_root = \"/rsrch9/home/plm/idso_fa1_pathology/TIER2/paul-xenium/classification_results/public_data\"\n",
    "    results_dir = f\"{results_root}/{xenium_folder}\"\n",
    "    os.makedirs(results_dir, exist_ok=True)\n",
    "    \n",
    "elif platform == \"visium\":\n",
    "    data_path = \"/rsrch9/home/plm/idso_fa1_pathology/TIER1/paul-xenium/public_data/10x_genomics/Visium_HD_Human_Lung_Cancer_post_Xenium_Prime_5k_Experiment2/binned_outputs/square_002um/preprocessed/bin2cell/to_tokenize/corrected_cells_matched_preprocessed_refined_v2.h5ad\"\n",
    "\n",
    "    gene_embedding_file = \"/rsrch9/home/plm/idso_fa1_pathology/TIER2/paul-xenium/embeddings/public_data/Visium_HD_Human_Lung_Cancer_post_Xenium_Prime_5k_Experiment2/bin2cell/embeddings_output/processed_visium_hd_bin2cell.csv\"\n",
    "    morph_embedding_dir = f\"/rsrch9/home/plm/idso_fa1_pathology/TIER2/paul-xenium/embeddings/public_data/Visium_HD_Human_Lung_Cancer_post_Xenium_Prime_5k_Experiment2\"\n",
    "\n",
    "# Load AnnData\n",
    "# if label_source == \"singleR\":\n",
    "data_path = singleR_data_path\n",
    "adata = sc.read_h5ad(data_path)\n",
    "\n",
    "if label_source == \"celltypist\":\n",
    "    data_path = celltypist\n",
    "    adata = sc.read_h5ad(data_path)\n",
    "    \n",
    "elif label_source == \"combined\":\n",
    "    adata = sc.read_h5ad(singleR_data_path)\n",
    "    bdata = sc.read_h5ad(celltypist_data_path)\n",
    "    adata.obs[\"majority_voting\"] = bdata.obs[\"majority_voting\"]\n",
    "    adata.obs[\"qc_celltypist\"] = bdata.obs[\"qc_celltypist\"]\n",
    "    cell_data = adata.obs\n",
    "\n",
    "cell_data = adata.obs\n",
    "\n",
    "# Spatial Information \n",
    "spatial_coords = cell_data[['x_centroid', 'y_centroid']].rename(columns={'x_centroid': 'x', 'y_centroid': 'y'})\n",
    "\n",
    "# Load gene Embeddings \n",
    "\n",
    "if not use_projections:\n",
    "    print(\"Using zero-shot embeddings\")\n",
    "    gdata = sc.read_h5ad(gene_emb_path)\n",
    "    gene_embeddings = pd.DataFrame(gdata.obsm[\"X_scGPT\"])\n",
    "    gene_embeddings.index = cell_data.index\n",
    "    \n",
    "    # Load Morphology Embeddings \n",
    "    if morph_version == \"v1\":\n",
    "        morph_embedding_csv = os.path.join(embedding_dir, \"UNI2_cell_representation\",f\"level_{level}\",\"morphology_embeddings_v2.csv\")  # morphology_embeddings_v2\n",
    "    else:\n",
    "        morph_embedding_csv = os.path.join(embedding_dir, \"UNI2_cell_representation\",f\"level_{level}\",\"uni2_pretrained_embeddings.csv\")  # morphology_embeddings_v2\n",
    "    morph_embeddings = pd.read_csv(morph_embedding_csv, index_col=\"Unnamed: 0\")\n",
    "else:\n",
    "    print(\"Using contrastive projections\")\n",
    "    gene_embeddings = pd.read_csv(os.path.join(embedding_dir, \"contrastive_learning\", f\"gene_projection_embeddings_{morph_version}.csv\"), index_col=0)\n",
    "    morph_embeddings = pd.read_csv(os.path.join(embedding_dir, \"contrastive_learning\", f\"morph_projection_embeddings_{morph_version}.csv\"), index_col=0)\n",
    "    \n",
    "if label_source==\"singleR\":\n",
    "    print(\"Using labels from SingleR.\")\n",
    "    singleR_to_class_map = {\n",
    "        \"Smooth muscle\": \"fibroblast\",\n",
    "        \"Fibroblasts\": \"fibroblast\",\n",
    "        \"Endothelial cells\": \"endothelial\",\n",
    "        \"CD4+ T-cells\": \"t_cell\",\n",
    "        \"CD8+ T-cells\": \"t_cell\",\n",
    "        \"B-cells\": \"b_cell\",\n",
    "        \"Macrophages\": \"macrophage\",\n",
    "        \"Epithelial cells\": \"epithelial\",\n",
    "    }\n",
    "    \n",
    "    target_classes = [\"fibroblast\", \"endothelial\",\n",
    "                      \"t_cell\", \"b_cell\", \"macrophage\",\n",
    "                      \"epithelial\"]\n",
    "    \n",
    "    # Map SingleR labels to 7-class system\n",
    "    cell_data[label_source] = cell_data[\"singleR_class\"].map(singleR_to_class_map)\n",
    "    \n",
    "    # Drop cells that are nan (if any)\n",
    "    cell_data = cell_data.dropna(subset=[label_source])\n",
    "    \n",
    "    # Keep only those 7 classes\n",
    "    cell_data = cell_data[cell_data[label_source].isin(target_classes)]\n",
    "    \n",
    "    if use_qc:\n",
    "        cell_data = cell_data[cell_data[\"qc_singleR\"]==1]\n",
    "\n",
    "    \n",
    "    # Reindex embeddings/coords\n",
    "    gene_embeddings = gene_embeddings.reindex(cell_data.index)\n",
    "    morph_embeddings = morph_embeddings.reindex(cell_data.index)\n",
    "    spatial_coords = spatial_coords.reindex(cell_data.index)\n",
    "    \n",
    "    \n",
    "elif label_source==\"aistil\":\n",
    "    print(\"Using AISTIL labels\")\n",
    "    label_key = \"class\"\n",
    "    target_classes = [\"f\", \"l\", \"t\"]  # Modify this list to restrict classification to specific classes\n",
    "    if limit_classes:\n",
    "        num_classes = len(target_classes)\n",
    "        cell_data = cell_data[cell_data[label_key].isin(target_classes)]\n",
    "\n",
    "        # Change index type for Visium data to match embeddings Idxs \n",
    "        if platform == \"visium\":\n",
    "            morph_embeddings.index = morph_embeddings.index.astype(str)\n",
    "\n",
    "        # Update corresponding embeddings and spatial coordinates\n",
    "        gene_embeddings = gene_embeddings.reindex(cell_data.index)\n",
    "        morph_embeddings = morph_embeddings.reindex(cell_data.index)\n",
    "        spatial_coords = spatial_coords.reindex(cell_data.index)\n",
    "    else:\n",
    "        target_classes = [\"f\",\"l\",\"o\",\"t\"]\n",
    "        \n",
    "elif label_source==\"celltypist\":\n",
    "    print(\"Using CellTypist Labels\")\n",
    "    celltypist_to_class_map = {\n",
    "        \"Fibroblasts\": \"fibroblast\",\n",
    "        \"Endothelial cells\": \"endothelial\",\n",
    "        \"T cells\": \"t_cell\",\n",
    "        \"B cells\": \"b_cell\",\n",
    "        \"Macrophages\": \"macrophage\",\n",
    "        \"Epithelial cells\": \"epithelial\",\n",
    "    }\n",
    "    target_classes = [\"fibroblast\", \"endothelial\",\n",
    "                      \"t_cell\", \"b_cell\", \"macrophage\",\n",
    "                      \"epithelial\"]\n",
    "\n",
    "    # Map SingleR labels to 7-class system\n",
    "    cell_data[label_source] = cell_data[\"majority_voting\"].map(celltypist_to_class_map)\n",
    "    \n",
    "    # Drop cells that are nan (if any)\n",
    "    cell_data = cell_data.dropna(subset=[])\n",
    "    \n",
    "    # Keep only those 7 classes\n",
    "    cell_data = cell_data[cell_data[label_source].isin(target_classes)]\n",
    "\n",
    "    if use_qc:\n",
    "        cell_data = cell_data[cell_data[\"qc_celltypist\"]==1]\n",
    "\n",
    "    # Reindex embeddings/coords\n",
    "    gene_embeddings = gene_embeddings.reindex(cell_data.index)\n",
    "    morph_embeddings = morph_embeddings.reindex(cell_data.index)\n",
    "    spatial_coords = spatial_coords.reindex(cell_data.index)\n",
    "    \n",
    "elif label_source == \"combined\":\n",
    "    print(\"Using combined SingleR and CellTypist labels (agreement only)\")\n",
    "\n",
    "    # Define the shared label map and target classes\n",
    "    shared_class_map = {\n",
    "        \"Fibroblasts\": \"fibroblast\",\n",
    "        \"Smooth muscle\": \"fibroblast\",\n",
    "        \"Endothelial cells\": \"endothelial\",\n",
    "        \"CD4+ T-cells\": \"t_cell\",\n",
    "        \"CD8+ T-cells\": \"t_cell\",\n",
    "        \"T cells\": \"t_cell\",\n",
    "        \"B cells\": \"b_cell\",\n",
    "        \"B-cells\": \"b_cell\",\n",
    "        \"Macrophages\": \"macrophage\",\n",
    "        \"Epithelial cells\": \"epithelial\",\n",
    "    }\n",
    "    \n",
    "    target_classes = [\"fibroblast\", \"endothelial\", \"t_cell\", \"b_cell\", \"macrophage\", \"epithelial\"]\n",
    "\n",
    "    # First map the labels (these are safe)\n",
    "    cell_data[\"singleR_mapped\"] = cell_data[\"singleR_class\"].map(shared_class_map)\n",
    "    cell_data[\"celltypist_mapped\"] = cell_data[\"majority_voting\"].map(shared_class_map)\n",
    "    \n",
    "    # Then immediately filter with a properly aligned mask\n",
    "    cell_data = cell_data[\n",
    "        cell_data[\"singleR_mapped\"].notnull() &\n",
    "        cell_data[\"celltypist_mapped\"].notnull() &\n",
    "        (cell_data[\"singleR_mapped\"] == cell_data[\"celltypist_mapped\"])\n",
    "    ].copy()\n",
    "    \n",
    "\n",
    "    # Rename the final label column\n",
    "    cell_data[\"combined\"] = cell_data[\"singleR_mapped\"]\n",
    "    \n",
    "    if use_qc:\n",
    "        qc_mask = cell_data[\"qc_singleR\"] == 1\n",
    "        if \"qc_celltypist\" in cell_data.columns:\n",
    "            qc_mask &= cell_data[\"qc_celltypist\"] == 1\n",
    "        cell_data = cell_data[qc_mask]\n",
    "\n",
    "    # Reindex everything to the filtered cells\n",
    "    gene_embeddings = gene_embeddings.reindex(cell_data.index)\n",
    "    morph_embeddings = morph_embeddings.reindex(cell_data.index)\n",
    "    spatial_coords = spatial_coords.reindex(cell_data.index)\n",
    "\n",
    "\n",
    "\n",
    "num_classes = len(target_classes)\n",
    "label_mapping = {cls_name: i for i, cls_name in enumerate(target_classes)}\n",
    "if label_source == \"aistil\":\n",
    "    labels = pd.Series(cell_data[label_key].map(label_mapping))\n",
    "else:\n",
    "    labels = pd.Series(cell_data[label_source].map(label_mapping))"
   ]
  },
  {
   "cell_type": "code",
   "execution_count": null,
   "id": "f0f97aa9-1cc8-4c7f-a9e2-68106e50fe99",
   "metadata": {},
   "outputs": [],
   "source": [
    "print(\"Cell data index:\", cell_data.index.tolist()[:5])\n",
    "print(\"Morph embeddings index:\", morph_embeddings.index.tolist()[:5])\n",
    "print(\"Gene embeddings index:\", gene_embeddings.index.tolist()[:5])\n",
    "print(\"Spatial coords index:\", spatial_coords.index.tolist()[:5])\n",
    "cell_data\n"
   ]
  },
  {
   "cell_type": "markdown",
   "id": "bf14e2d4-5099-4594-9954-3513705c5c28",
   "metadata": {},
   "source": [
    "# Version 1: Transformer Using One Feature Set (No Spatial Encoding)"
   ]
  },
  {
   "cell_type": "code",
   "execution_count": 10,
   "id": "a910d951-34fd-48c5-bff6-b7b840b2b04c",
   "metadata": {},
   "outputs": [],
   "source": [
    "\n",
    "train_on = \"gene\" # gene or morphology\n",
    "\n",
    "if train_on == \"gene\":\n",
    "    train_embeddings = gene_embeddings.copy()\n",
    "    if use_projections:\n",
    "        input_dim = 128\n",
    "    else:\n",
    "        input_dim = 512\n",
    "else:\n",
    "    train_embeddings = morph_embeddings.copy()\n",
    "    input_dim = 1536\n",
    "    \n",
    "num_epochs = 20 \n",
    "batch_size = 64\n"
   ]
  },
  {
   "cell_type": "code",
   "execution_count": 11,
   "id": "0e51e9bd-d8f9-4d83-b2e9-9dd735003ffe",
   "metadata": {},
   "outputs": [
    {
     "name": "stderr",
     "output_type": "stream",
     "text": [
      "                                                                         "
     ]
    },
    {
     "name": "stdout",
     "output_type": "stream",
     "text": [
      "Epoch 1: Loss: 0.4047 | Accuracy: 85.89%\n",
      "Test: Loss: 0.2425 | Accuracy: 92.61%\n"
     ]
    },
    {
     "name": "stderr",
     "output_type": "stream",
     "text": [
      "                                                                         "
     ]
    },
    {
     "name": "stdout",
     "output_type": "stream",
     "text": [
      "Epoch 2: Loss: 0.2241 | Accuracy: 92.50%\n",
      "Test: Loss: 0.2158 | Accuracy: 92.84%\n"
     ]
    },
    {
     "name": "stderr",
     "output_type": "stream",
     "text": [
      "                                                                         "
     ]
    },
    {
     "name": "stdout",
     "output_type": "stream",
     "text": [
      "Epoch 3: Loss: 0.2101 | Accuracy: 92.90%\n",
      "Test: Loss: 0.1926 | Accuracy: 93.47%\n"
     ]
    },
    {
     "name": "stderr",
     "output_type": "stream",
     "text": [
      "                                                                         "
     ]
    },
    {
     "name": "stdout",
     "output_type": "stream",
     "text": [
      "Epoch 4: Loss: 0.2024 | Accuracy: 93.11%\n",
      "Test: Loss: 0.2451 | Accuracy: 91.90%\n"
     ]
    },
    {
     "name": "stderr",
     "output_type": "stream",
     "text": [
      "                                                                         "
     ]
    },
    {
     "name": "stdout",
     "output_type": "stream",
     "text": [
      "Epoch 5: Loss: 0.1980 | Accuracy: 93.20%\n",
      "Test: Loss: 0.1918 | Accuracy: 93.63%\n"
     ]
    },
    {
     "name": "stderr",
     "output_type": "stream",
     "text": [
      "                                                                         "
     ]
    },
    {
     "name": "stdout",
     "output_type": "stream",
     "text": [
      "Epoch 6: Loss: 0.1941 | Accuracy: 93.35%\n",
      "Test: Loss: 0.2035 | Accuracy: 93.02%\n"
     ]
    },
    {
     "name": "stderr",
     "output_type": "stream",
     "text": [
      "                                                                         "
     ]
    },
    {
     "name": "stdout",
     "output_type": "stream",
     "text": [
      "Epoch 7: Loss: 0.1899 | Accuracy: 93.47%\n",
      "Test: Loss: 0.2135 | Accuracy: 92.69%\n"
     ]
    },
    {
     "name": "stderr",
     "output_type": "stream",
     "text": [
      "                                                                         "
     ]
    },
    {
     "name": "stdout",
     "output_type": "stream",
     "text": [
      "Epoch 8: Loss: 0.1871 | Accuracy: 93.54%\n",
      "Test: Loss: 0.1836 | Accuracy: 93.67%\n"
     ]
    },
    {
     "name": "stderr",
     "output_type": "stream",
     "text": [
      "                                                                         "
     ]
    },
    {
     "name": "stdout",
     "output_type": "stream",
     "text": [
      "Epoch 9: Loss: 0.1848 | Accuracy: 93.59%\n",
      "Test: Loss: 0.1924 | Accuracy: 93.61%\n"
     ]
    },
    {
     "name": "stderr",
     "output_type": "stream",
     "text": [
      "                                                                          "
     ]
    },
    {
     "name": "stdout",
     "output_type": "stream",
     "text": [
      "Epoch 10: Loss: 0.1819 | Accuracy: 93.68%\n",
      "Test: Loss: 0.1769 | Accuracy: 93.85%\n"
     ]
    },
    {
     "name": "stderr",
     "output_type": "stream",
     "text": [
      "                                                                          "
     ]
    },
    {
     "name": "stdout",
     "output_type": "stream",
     "text": [
      "Epoch 11: Loss: 0.1794 | Accuracy: 93.78%\n",
      "Test: Loss: 0.1779 | Accuracy: 93.92%\n"
     ]
    },
    {
     "name": "stderr",
     "output_type": "stream",
     "text": [
      "                                                                          "
     ]
    },
    {
     "name": "stdout",
     "output_type": "stream",
     "text": [
      "Epoch 12: Loss: 0.1776 | Accuracy: 93.83%\n",
      "Test: Loss: 0.1770 | Accuracy: 93.94%\n"
     ]
    },
    {
     "name": "stderr",
     "output_type": "stream",
     "text": [
      "                                                                          "
     ]
    },
    {
     "name": "stdout",
     "output_type": "stream",
     "text": [
      "Epoch 13: Loss: 0.1763 | Accuracy: 93.90%\n",
      "Test: Loss: 0.1866 | Accuracy: 93.60%\n"
     ]
    },
    {
     "name": "stderr",
     "output_type": "stream",
     "text": [
      "                                                                          "
     ]
    },
    {
     "name": "stdout",
     "output_type": "stream",
     "text": [
      "Epoch 14: Loss: 0.1755 | Accuracy: 93.88%\n",
      "Test: Loss: 0.1790 | Accuracy: 93.91%\n"
     ]
    },
    {
     "name": "stderr",
     "output_type": "stream",
     "text": [
      "                                                                          "
     ]
    },
    {
     "name": "stdout",
     "output_type": "stream",
     "text": [
      "Epoch 15: Loss: 0.1731 | Accuracy: 93.97%\n",
      "Test: Loss: 0.1681 | Accuracy: 94.23%\n"
     ]
    },
    {
     "name": "stderr",
     "output_type": "stream",
     "text": [
      "                                                                          "
     ]
    },
    {
     "name": "stdout",
     "output_type": "stream",
     "text": [
      "Epoch 16: Loss: 0.1710 | Accuracy: 94.00%\n",
      "Test: Loss: 0.1710 | Accuracy: 93.97%\n"
     ]
    },
    {
     "name": "stderr",
     "output_type": "stream",
     "text": [
      "                                                                          "
     ]
    },
    {
     "name": "stdout",
     "output_type": "stream",
     "text": [
      "Epoch 17: Loss: 0.1705 | Accuracy: 94.07%\n",
      "Test: Loss: 0.1732 | Accuracy: 94.14%\n"
     ]
    },
    {
     "name": "stderr",
     "output_type": "stream",
     "text": [
      "                                                                          "
     ]
    },
    {
     "name": "stdout",
     "output_type": "stream",
     "text": [
      "Epoch 18: Loss: 0.1702 | Accuracy: 94.07%\n",
      "Test: Loss: 0.1764 | Accuracy: 94.01%\n"
     ]
    },
    {
     "name": "stderr",
     "output_type": "stream",
     "text": [
      "                                                                          "
     ]
    },
    {
     "name": "stdout",
     "output_type": "stream",
     "text": [
      "Epoch 19: Loss: 0.1684 | Accuracy: 94.10%\n",
      "Test: Loss: 0.1688 | Accuracy: 94.09%\n"
     ]
    },
    {
     "name": "stderr",
     "output_type": "stream",
     "text": [
      "                                                                          "
     ]
    },
    {
     "name": "stdout",
     "output_type": "stream",
     "text": [
      "Epoch 20: Loss: 0.1677 | Accuracy: 94.12%\n",
      "Test: Loss: 0.1687 | Accuracy: 94.11%\n"
     ]
    }
   ],
   "source": [
    "# Dataset that returns only the chosen feature and label.\n",
    "class SingleFeatureDataset(Dataset):\n",
    "    def __init__(self, features, labels):\n",
    "        self.features = torch.tensor(features.values, dtype=torch.float32)\n",
    "        self.labels = torch.tensor(labels.values, dtype=torch.long)\n",
    "        \n",
    "    def __len__(self):\n",
    "        return len(self.labels)\n",
    "    \n",
    "    def __getitem__(self, idx):\n",
    "        return self.features[idx], self.labels[idx]\n",
    "\n",
    "# Transformer-based model that processes a single feature token.\n",
    "class SingleFeatureTransformer(nn.Module):\n",
    "    def __init__(self, input_dim, d_model=512, num_heads=8, num_classes=3, num_layers=6):\n",
    "        super().__init__()\n",
    "        self.input_proj = nn.Linear(input_dim, d_model)\n",
    "        # Use standard Transformer encoder layers (without spatial or extra positional attention)\n",
    "        self.layers = nn.ModuleList([\n",
    "            nn.TransformerEncoderLayer(d_model=d_model, nhead=num_heads, batch_first=True)\n",
    "            for _ in range(num_layers)\n",
    "        ])\n",
    "        self.classifier = nn.Sequential(\n",
    "            nn.LayerNorm(d_model),\n",
    "            nn.Linear(d_model, num_classes)\n",
    "        )\n",
    "        \n",
    "    def forward(self, x):\n",
    "        # x shape: [B, input_dim]\n",
    "        x = self.input_proj(x).unsqueeze(1)  # Shape becomes [B, 1, d_model]\n",
    "        for layer in self.layers:\n",
    "            x = layer(x)\n",
    "        # Since there's one token, mean pooling is trivial\n",
    "        x = x.mean(dim=1)\n",
    "        return self.classifier(x)\n",
    "\n",
    "# Hyperparameters and device\n",
    "device = torch.device(\"cuda\" if torch.cuda.is_available() else \"cpu\")\n",
    "num_classes = len(np.unique(labels))  # or set explicitly if known\n",
    "\n",
    "# Initialize dataset and model (using single embeddings here)\n",
    "dataset = SingleFeatureDataset(train_embeddings, labels)\n",
    "all_indices = np.arange(len(dataset))\n",
    "train_idx, test_idx = train_test_split(\n",
    "    all_indices, test_size=0.2, random_state=42, stratify=labels\n",
    ")\n",
    "train_dataset = Subset(dataset, train_idx)\n",
    "test_dataset = Subset(dataset, test_idx)\n",
    "train_loader = DataLoader(train_dataset, batch_size=batch_size, shuffle=True)\n",
    "test_loader = DataLoader(test_dataset, batch_size=batch_size, shuffle=False)\n",
    "\n",
    "model = SingleFeatureTransformer(input_dim=input_dim, d_model=512, num_heads=8, num_classes=num_classes).to(device)\n",
    "optimizer = optim.AdamW(model.parameters(), lr=3e-5, weight_decay=0.01)\n",
    "criterion = nn.CrossEntropyLoss()\n",
    "\n",
    "# Training loop\n",
    "for epoch in range(num_epochs):\n",
    "    model.train()\n",
    "    epoch_loss = 0.0\n",
    "    correct = 0\n",
    "    total = 0\n",
    "    progress_bar = tqdm(train_loader, desc=f\"Epoch {epoch+1}\", leave=False)\n",
    "    for features, lbls in progress_bar:\n",
    "        features, lbls = features.to(device), lbls.to(device)\n",
    "        optimizer.zero_grad()\n",
    "        outputs = model(features)\n",
    "        loss = criterion(outputs, lbls)\n",
    "        loss.backward()\n",
    "        optimizer.step()\n",
    "        epoch_loss += loss.item() * features.size(0)\n",
    "        _, predicted = torch.max(outputs, 1)\n",
    "        total += lbls.size(0)\n",
    "        correct += (predicted == lbls).sum().item()\n",
    "        progress_bar.set_postfix(loss=loss.item())\n",
    "    avg_loss = epoch_loss / total\n",
    "    accuracy = correct / total * 100 \n",
    "    print(f\"Epoch {epoch+1}: Loss: {avg_loss:.4f} | Accuracy: {accuracy:.2f}%\")\n",
    "    \n",
    "    # Evaluation on test set\n",
    "    model.eval()\n",
    "    test_loss = 0.0\n",
    "    test_correct = 0\n",
    "    test_total = 0\n",
    "    with torch.no_grad():\n",
    "        for features, lbls in test_loader:\n",
    "            features, lbls = features.to(device), lbls.to(device)\n",
    "            outputs = model(features)\n",
    "            loss = criterion(outputs, lbls)\n",
    "            test_loss += loss.item() * features.size(0)\n",
    "            _, predicted = torch.max(outputs, 1)\n",
    "            test_total += lbls.size(0)\n",
    "            test_correct += (predicted == lbls).sum().item()\n",
    "    avg_test_loss = test_loss / test_total\n",
    "    test_accuracy = test_correct / test_total * 100\n",
    "    print(f\"Test: Loss: {avg_test_loss:.4f} | Accuracy: {test_accuracy:.2f}%\")"
   ]
  },
  {
   "cell_type": "code",
   "execution_count": 12,
   "id": "f71a1147-2322-47b0-960e-2676e52282c7",
   "metadata": {},
   "outputs": [
    {
     "data": {
      "image/png": "[encoded data removed]",
      "text/plain": [
       "<Figure size 640x480 with 2 Axes>"
      ]
     },
     "metadata": {},
     "output_type": "display_data"
    },
    {
     "name": "stdout",
     "output_type": "stream",
     "text": [
      "Classification Report:\n",
      "              precision    recall  f1-score   support\n",
      "\n",
      "  fibroblast       0.93      0.92      0.92      5586\n",
      " endothelial       0.93      0.93      0.93      5972\n",
      "      t_cell       0.94      0.93      0.94      7248\n",
      "      b_cell       0.92      0.89      0.90      3132\n",
      "  macrophage       0.90      0.94      0.92      3624\n",
      "  epithelial       0.97      0.98      0.97     11134\n",
      "\n",
      "    accuracy                           0.94     36696\n",
      "   macro avg       0.93      0.93      0.93     36696\n",
      "weighted avg       0.94      0.94      0.94     36696\n",
      "\n"
     ]
    }
   ],
   "source": [
    "# Evaluation for Transformer using a single feature (e.g., gene embeddings only)\n",
    "model.eval()\n",
    "all_preds = []\n",
    "all_labels = []\n",
    "\n",
    "with torch.no_grad():\n",
    "    for features, lbls in test_loader:\n",
    "        features = features.to(device)\n",
    "        lbls = lbls.to(device)\n",
    "        \n",
    "        outputs = model(features)  # Only one input here\n",
    "        preds = torch.argmax(outputs, dim=1)\n",
    "        \n",
    "        all_preds.extend(preds.cpu().numpy())\n",
    "        all_labels.extend(lbls.cpu().numpy())\n",
    "\n",
    "cm = confusion_matrix(all_labels, all_preds, normalize=\"true\")\n",
    "disp = ConfusionMatrixDisplay(confusion_matrix=cm, display_labels=target_classes)\n",
    "\n",
    "disp.plot(cmap='viridis', xticks_rotation='vertical')\n",
    "plt.title(f\"Single Feature | {train_on} embeddings | {label_source}\")\n",
    "plt.show()\n",
    "\n",
    "print(\"Classification Report:\")\n",
    "print(classification_report(all_labels, all_preds, target_names=target_classes))"
   ]
  },
  {
   "cell_type": "code",
   "execution_count": 13,
   "id": "ff1862c4-2a5c-4cf3-93aa-1e396617f4e6",
   "metadata": {},
   "outputs": [],
   "source": [
    "report_dict = classification_report(all_labels, all_preds, target_names=target_classes, output_dict=True)\n",
    "report_df = pd.DataFrame(report_dict).transpose()\n",
    "\n",
    "save_path = os.path.join(results_dir, \"T1\")\n",
    "os.makedirs(save_path, exist_ok=True)\n",
    "\n",
    "if not use_projections:\n",
    "    report_df.to_csv(os.path.join(save_path, f\"classification_report_{label_source}_{morph_version}.csv\"))\n",
    "else:\n",
    "    report_df.to_csv(os.path.join(save_path, f\"classification_report_{label_source}_{morph_version}_proj.csv\"))"
   ]
  },
  {
   "cell_type": "markdown",
   "id": "dd680143-07be-4311-be5b-4539391b658e",
   "metadata": {},
   "source": [
    "# Version 2: Transformer Using One Feature Set Plus Spatial Encoding"
   ]
  },
  {
   "cell_type": "code",
   "execution_count": null,
   "id": "e529b000-41ea-4927-8a5c-6fe380b89ec7",
   "metadata": {},
   "outputs": [],
   "source": [
    "\n",
    "train_on = \"gene\" # gene or morphology\n",
    "\n",
    "if train_on == \"gene\":\n",
    "    train_embeddings = gene_embeddings.copy()\n",
    "    if use_projections:\n",
    "        input_dim = 128\n",
    "    else:\n",
    "        input_dim = 512\n",
    "else:\n",
    "    train_embeddings = morph_embeddings.copy()\n",
    "    if use_projections:\n",
    "        input_dim = 128\n",
    "    else:\n",
    "        input_dim = 1536\n",
    "    \n",
    "num_epochs = 20 \n",
    "batch_size = 64\n"
   ]
  },
  {
   "cell_type": "code",
   "execution_count": null,
   "id": "82aabddb-3a28-4cac-99b0-163b86bcebb5",
   "metadata": {},
   "outputs": [],
   "source": [
    "# Assume gene_embeddings (DataFrame with shape [N, 512]), spatial_coords (DataFrame with shape [N, 2]), and labels are already loaded.\n",
    "\n",
    "# Positional Encoding for 2D coordinates (as in the original code)\n",
    "class PositionalEncoding2D(nn.Module):\n",
    "    \"\"\"Sinusoidal positional encoding for spatial coordinates.\"\"\"\n",
    "    def __init__(self, d_model):\n",
    "        super().__init__()\n",
    "        self.d_model = d_model\n",
    "        self.proj = nn.Linear(4, d_model)  # Projects 4-dim (sin and cos for x and y) to d_model\n",
    "        \n",
    "    def forward(self, coords):\n",
    "        # coords shape: [B, 2]\n",
    "        x = coords[:, 0] * 2 * torch.pi\n",
    "        y = coords[:, 1] * 2 * torch.pi\n",
    "        pe = torch.stack([\n",
    "            torch.sin(x), torch.cos(x),\n",
    "            torch.sin(y), torch.cos(y)\n",
    "        ], dim=-1)  # Shape: [B, 4]\n",
    "        pe = self.proj(pe)  # Shape: [B, d_model]\n",
    "        return pe\n",
    "\n",
    "# Relative Position Transformer Layer (adapted from the original)\n",
    "class RelativePositionTransformerLayer(nn.TransformerEncoderLayer):\n",
    "    \"\"\"Enhanced transformer layer with additional positional attention.\"\"\"\n",
    "    def __init__(self, d_model, nhead, dim_feedforward=2048, dropout=0.1):\n",
    "        super().__init__(d_model, nhead, dim_feedforward, dropout, batch_first=True)\n",
    "        self.pos_attn = nn.MultiheadAttention(d_model, nhead, dropout=dropout, batch_first=True)\n",
    "        self.pos_norm = nn.LayerNorm(d_model)\n",
    "        self.dropout3 = nn.Dropout(dropout)\n",
    "    \n",
    "    def forward(self, src, pos_emb):\n",
    "        # pos_emb: [B, 1, d_model] provided externally\n",
    "        pos_emb = pos_emb.expand(-1, src.shape[1], -1)  # Expand to [B, seq_len, d_model]\n",
    "        src2 = self.self_attn(src, src, src, need_weights=False)[0]\n",
    "        src = src + self.dropout1(src2)\n",
    "        src = self.norm1(src)\n",
    "        src2 = self.pos_attn(src, pos_emb, pos_emb)[0]\n",
    "        src = src + self.dropout2(src2)\n",
    "        src = self.pos_norm(src)\n",
    "        src2 = self.linear2(self.dropout(self.activation(self.linear1(src))))\n",
    "        src = src + self.dropout3(src2)\n",
    "        src = self.norm2(src)\n",
    "        return src\n",
    "\n",
    "# Dataset that returns a single feature, spatial coordinates, and label.\n",
    "class SingleFeatureSpatialDataset(Dataset):\n",
    "    def __init__(self, features, spatial, labels):\n",
    "        self.features = torch.tensor(features.values, dtype=torch.float32)\n",
    "        self.spatial = torch.tensor(spatial.values, dtype=torch.float32)\n",
    "        self.labels = torch.tensor(labels.values, dtype=torch.long)\n",
    "        \n",
    "    def __len__(self):\n",
    "        return len(self.labels)\n",
    "    \n",
    "    def __getitem__(self, idx):\n",
    "        return self.features[idx], self.spatial[idx], self.labels[idx]\n",
    "\n",
    "# Transformer model that uses one feature set plus spatial encoding.\n",
    "class SingleFeatureSpatialTransformer(nn.Module):\n",
    "    def __init__(self, input_dim, d_model=512, num_heads=8, num_classes=3, num_layers=6):\n",
    "        super().__init__()\n",
    "        self.feature_proj = nn.Linear(input_dim, d_model)\n",
    "        self.spatial_pe = PositionalEncoding2D(d_model)\n",
    "        # Use the modified transformer layers with relative positional attention.\n",
    "        self.layers = nn.ModuleList([\n",
    "            RelativePositionTransformerLayer(d_model, num_heads)\n",
    "            for _ in range(num_layers)\n",
    "        ])\n",
    "        self.classifier = nn.Sequential(\n",
    "            nn.LayerNorm(d_model),\n",
    "            nn.Linear(d_model, num_classes)\n",
    "        )\n",
    "    \n",
    "    def forward(self, feature, spatial):\n",
    "        # feature: [B, input_dim]\n",
    "        # spatial: [B, 2]\n",
    "        feature_emb = self.feature_proj(feature)  # [B, d_model]\n",
    "        spatial_emb = self.spatial_pe(spatial)      # [B, d_model]\n",
    "        # Stack the feature token and the spatial token into a sequence.\n",
    "        tokens = torch.stack([feature_emb, spatial_emb], dim=1)  # [B, 2, d_model]\n",
    "        # Prepare a positional token for the attention layers (unsqueezed spatial embedding)\n",
    "        pos_token = spatial_emb.unsqueeze(1)  # [B, 1, d_model]\n",
    "        for layer in self.layers:\n",
    "            tokens = layer(tokens, pos_token)\n",
    "        pooled = tokens.mean(dim=1)\n",
    "        return self.classifier(pooled)\n",
    "\n",
    "# device\n",
    "device = torch.device(\"cuda\" if torch.cuda.is_available() else \"cpu\")\n",
    "num_classes = len(np.unique(labels))  # or set explicitly if known\n",
    "\n",
    "# Initialize dataset and model (using gene embeddings and spatial_coords)\n",
    "dataset = SingleFeatureSpatialDataset(train_embeddings, spatial_coords, labels)\n",
    "all_indices = np.arange(len(dataset))\n",
    "train_idx, test_idx = train_test_split(\n",
    "    all_indices, test_size=0.2, random_state=42, stratify=labels\n",
    ")\n",
    "train_dataset = Subset(dataset, train_idx)\n",
    "test_dataset = Subset(dataset, test_idx)\n",
    "train_loader = DataLoader(train_dataset, batch_size=batch_size, shuffle=True)\n",
    "test_loader = DataLoader(test_dataset, batch_size=batch_size, shuffle=False)\n",
    "\n",
    "model = SingleFeatureSpatialTransformer(input_dim=input_dim, d_model=512, num_heads=8, num_classes=num_classes).to(device)\n",
    "optimizer = optim.AdamW(model.parameters(), lr=3e-5, weight_decay=0.01)\n",
    "criterion = nn.CrossEntropyLoss()\n",
    "\n",
    "# Training loop\n",
    "for epoch in range(num_epochs):\n",
    "    model.train()\n",
    "    epoch_loss = 0.0\n",
    "    correct = 0\n",
    "    total = 0\n",
    "    progress_bar = tqdm(train_loader, desc=f\"Epoch {epoch+1}\", leave=False)\n",
    "    for features, spatial, lbls in progress_bar:\n",
    "        features, spatial, lbls = features.to(device), spatial.to(device), lbls.to(device)\n",
    "        optimizer.zero_grad()\n",
    "        outputs = model(features, spatial)\n",
    "        loss = criterion(outputs, lbls)\n",
    "        loss.backward()\n",
    "        optimizer.step()\n",
    "        epoch_loss += loss.item() * features.size(0)\n",
    "        _, predicted = torch.max(outputs, 1)\n",
    "        total += lbls.size(0)\n",
    "        correct += (predicted == lbls).sum().item()\n",
    "        progress_bar.set_postfix(loss=loss.item())\n",
    "    avg_loss = epoch_loss / total\n",
    "    accuracy = correct / total * 100 \n",
    "    print(f\"Epoch {epoch+1}: Loss: {avg_loss:.4f} | Accuracy: {accuracy:.2f}%\")\n",
    "    \n",
    "    # Evaluation on test set\n",
    "    model.eval()\n",
    "    test_loss = 0.0\n",
    "    test_correct = 0\n",
    "    test_total = 0\n",
    "    with torch.no_grad():\n",
    "        for features, spatial, lbls in test_loader:\n",
    "            features, spatial, lbls = features.to(device), spatial.to(device), lbls.to(device)\n",
    "            outputs = model(features, spatial)\n",
    "            loss = criterion(outputs, lbls)\n",
    "            test_loss += loss.item() * features.size(0)\n",
    "            _, predicted = torch.max(outputs, 1)\n",
    "            test_total += lbls.size(0)\n",
    "            test_correct += (predicted == lbls).sum().item()\n",
    "    avg_test_loss = test_loss / test_total\n",
    "    test_accuracy = test_correct / test_total * 100\n",
    "    print(f\"Test: Loss: {avg_test_loss:.4f} | Accuracy: {test_accuracy:.2f}%\")\n"
   ]
  },
  {
   "cell_type": "code",
   "execution_count": null,
   "id": "31932759-4e94-48e8-8dc3-476aa0a86454",
   "metadata": {},
   "outputs": [],
   "source": [
    "# Evaluation for Transformer using a single feature with spatial encoding\n",
    "model.eval()\n",
    "all_preds = []\n",
    "all_labels = []\n",
    "\n",
    "with torch.no_grad():\n",
    "    for features, spatial, lbls in test_loader:\n",
    "        features = features.to(device)\n",
    "        spatial = spatial.to(device)\n",
    "        lbls = lbls.to(device)\n",
    "        \n",
    "        outputs = model(features, spatial)  # Pass both feature and spatial inputs\n",
    "        preds = torch.argmax(outputs, dim=1)\n",
    "        \n",
    "        all_preds.extend(preds.cpu().numpy())\n",
    "        all_labels.extend(lbls.cpu().numpy())\n",
    "\n",
    "cm = confusion_matrix(all_labels, all_preds, normalize=\"true\")\n",
    "disp = ConfusionMatrixDisplay(confusion_matrix=cm, display_labels=target_classes)\n",
    "\n",
    "disp.plot(cmap='viridis', xticks_rotation='vertical')\n",
    "plt.title(\"Confusion Matrix (Feature + Spatial)\")\n",
    "plt.show()\n",
    "\n",
    "print(\"Classification Report:\")\n",
    "print(classification_report(all_labels, all_preds, target_names=target_classes))"
   ]
  },
  {
   "cell_type": "code",
   "execution_count": null,
   "id": "0048fa05-74cc-499e-890d-a8d01dd45489",
   "metadata": {},
   "outputs": [],
   "source": [
    "report_dict = classification_report(all_labels, all_preds, target_names=target_classes, output_dict=True)\n",
    "report_df = pd.DataFrame(report_dict).transpose()\n",
    "\n",
    "save_path = os.path.join(results_dir, \"T2\")\n",
    "os.makedirs(save_path, exist_ok=True)\n",
    "\n",
    "if not use_projections:\n",
    "    report_df.to_csv(os.path.join(save_path, f\"classification_report_{label_source}_{morph_version}.csv\"))\n",
    "else:\n",
    "    report_df.to_csv(os.path.join(save_path, f\"classification_report_{label_source}_{morph_version}_proj.csv\"))"
   ]
  },
  {
   "cell_type": "markdown",
   "id": "9dfb370c-445c-469d-b4df-600ae33639b7",
   "metadata": {},
   "source": [
    "# Version 3: Transformer Using Both Feature Sets without Spatial Encoding"
   ]
  },
  {
   "cell_type": "code",
   "execution_count": null,
   "id": "651db374-d3cc-4d72-958d-5224c8d46453",
   "metadata": {},
   "outputs": [],
   "source": [
    "# Assume gene_embeddings (DataFrame with shape [N, 512]),\n",
    "# morph_embeddings (DataFrame with shape [N, 1536]),\n",
    "# and labels (a Pandas Series with mapped integer labels)\n",
    "# are already loaded.\n",
    "\n",
    "# Dataset that returns both gene and morphology features along with labels.\n",
    "class DualFeatureDataset(Dataset):\n",
    "    def __init__(self, gene, morph, labels):\n",
    "        self.gene = torch.tensor(gene.values, dtype=torch.float32)  # [N, 512]\n",
    "        self.morph = torch.tensor(morph.values, dtype=torch.float32)  # [N, 1536]\n",
    "        self.labels = torch.tensor(labels.values, dtype=torch.long)\n",
    "        \n",
    "    def __len__(self):\n",
    "        return len(self.labels)\n",
    "    \n",
    "    def __getitem__(self, idx):\n",
    "        return self.gene[idx], self.morph[idx], self.labels[idx]\n",
    "\n",
    "# Transformer model that processes both feature sets without spatial encoding.\n",
    "class DualFeatureTransformer(nn.Module):\n",
    "    def __init__(self, d_model=512, num_heads=8, num_classes=3, num_layers=6):\n",
    "        super().__init__()\n",
    "        # Projections for each modality\n",
    "        gene_input_dim = 128 if use_projections else 512\n",
    "        self.gene_proj = nn.Linear(gene_input_dim, d_model)\n",
    "\n",
    "        morph_input_dim = 128 if use_projections else 1536\n",
    "        self.morph_proj = nn.Linear(morph_input_dim, d_model)\n",
    "        # Modality type tokens\n",
    "        self.gene_type = nn.Parameter(torch.randn(1, d_model))\n",
    "        self.morph_type = nn.Parameter(torch.randn(1, d_model))\n",
    "        # Standard Transformer Encoder layers (no spatial information)\n",
    "        self.layers = nn.ModuleList([\n",
    "            nn.TransformerEncoderLayer(d_model=d_model, nhead=num_heads, batch_first=True)\n",
    "            for _ in range(num_layers)\n",
    "        ])\n",
    "        # Classification head\n",
    "        self.classifier = nn.Sequential(\n",
    "            nn.LayerNorm(d_model),\n",
    "            nn.Linear(d_model, num_classes)\n",
    "        )\n",
    "        \n",
    "    def forward(self, gene, morph):\n",
    "        # Project and add modality type tokens\n",
    "        gene_emb = self.gene_proj(gene) + self.gene_type   # [B, d_model]\n",
    "        morph_emb = self.morph_proj(morph) + self.morph_type # [B, d_model]\n",
    "        # Stack the embeddings to form a sequence of two tokens\n",
    "        tokens = torch.stack([gene_emb, morph_emb], dim=1)   # [B, 2, d_model]\n",
    "        # Process tokens with standard transformer encoder layers\n",
    "        for layer in self.layers:\n",
    "            tokens = layer(tokens)\n",
    "        # Pool tokens (here simple mean pooling) and classify\n",
    "        pooled = tokens.mean(dim=1)  # [B, d_model]\n",
    "        return self.classifier(pooled)\n",
    "\n",
    "# Hyperparameters and dataset preparation\n",
    "num_epochs = 20 \n",
    "batch_size = 64\n",
    "device = torch.device(\"cuda\" if torch.cuda.is_available() else \"cpu\")\n",
    "num_classes = len(np.unique(labels))  # Alternatively, set this explicitly if known\n",
    "\n",
    "# Create dataset and perform a stratified 80/20 train-test split\n",
    "dataset = DualFeatureDataset(gene_embeddings, morph_embeddings, labels)\n",
    "all_indices = np.arange(len(dataset))\n",
    "train_idx, test_idx = train_test_split(all_indices, test_size=0.2, random_state=42, stratify=labels)\n",
    "train_dataset = Subset(dataset, train_idx)\n",
    "test_dataset = Subset(dataset, test_idx)\n",
    "train_loader = DataLoader(train_dataset, batch_size=batch_size, shuffle=True)\n",
    "test_loader = DataLoader(test_dataset, batch_size=batch_size, shuffle=False)\n",
    "\n",
    "# Initialize model, optimizer, and loss function\n",
    "model = DualFeatureTransformer(d_model=512, num_heads=8, num_classes=num_classes, num_layers=6).to(device)\n",
    "optimizer = optim.AdamW(model.parameters(), lr=3e-5, weight_decay=0.01)\n",
    "criterion = nn.CrossEntropyLoss()\n",
    "\n",
    "# Training loop\n",
    "for epoch in range(num_epochs):\n",
    "    model.train()\n",
    "    epoch_loss = 0.0\n",
    "    correct = 0\n",
    "    total = 0\n",
    "    progress_bar = tqdm(train_loader, desc=f\"Epoch {epoch+1}\", leave=False)\n",
    "    for gene, morph, lbls in progress_bar:\n",
    "        gene, morph, lbls = gene.to(device), morph.to(device), lbls.to(device)\n",
    "        optimizer.zero_grad()\n",
    "        outputs = model(gene, morph)\n",
    "        loss = criterion(outputs, lbls)\n",
    "        loss.backward()\n",
    "        optimizer.step()\n",
    "        \n",
    "        epoch_loss += loss.item() * gene.size(0)\n",
    "        _, predicted = torch.max(outputs, dim=1)\n",
    "        total += lbls.size(0)\n",
    "        correct += (predicted == lbls).sum().item()\n",
    "        progress_bar.set_postfix(loss=loss.item())\n",
    "        \n",
    "    avg_loss = epoch_loss / total\n",
    "    accuracy = correct / total * 100 \n",
    "    print(f\"Epoch {epoch+1}: Loss: {avg_loss:.4f} | Accuracy: {accuracy:.2f}%\")\n",
    "    \n",
    "    # Evaluation on the test set\n",
    "    model.eval()\n",
    "    test_loss = 0.0\n",
    "    test_correct = 0\n",
    "    test_total = 0\n",
    "    with torch.no_grad():\n",
    "        for gene, morph, lbls in test_loader:\n",
    "            gene, morph, lbls = gene.to(device), morph.to(device), lbls.to(device)\n",
    "            outputs = model(gene, morph)\n",
    "            loss = criterion(outputs, lbls)\n",
    "            test_loss += loss.item() * gene.size(0)\n",
    "            _, predicted = torch.max(outputs, dim=1)\n",
    "            test_total += lbls.size(0)\n",
    "            test_correct += (predicted == lbls).sum().item()\n",
    "    avg_test_loss = test_loss / test_total\n",
    "    test_accuracy = test_correct / test_total * 100\n",
    "    print(f\"Test: Loss: {avg_test_loss:.4f} | Accuracy: {test_accuracy:.2f}%\")"
   ]
  },
  {
   "cell_type": "code",
   "execution_count": null,
   "id": "fe61e099-4dc1-4829-b644-062408e7f02a",
   "metadata": {},
   "outputs": [],
   "source": [
    "# Evaluation for DualFeatureTransformer using both gene and morphology features (no spatial encoding)\n",
    "model.eval()\n",
    "all_preds = []\n",
    "all_labels = []\n",
    "\n",
    "with torch.no_grad():\n",
    "    for gene, morph, lbls in test_loader:\n",
    "        gene = gene.to(device)\n",
    "        morph = morph.to(device)\n",
    "        lbls = lbls.to(device)\n",
    "\n",
    "        outputs = model(gene, morph)\n",
    "        preds = torch.argmax(outputs, dim=1)\n",
    "\n",
    "        all_preds.extend(preds.cpu().numpy())\n",
    "        all_labels.extend(lbls.cpu().numpy())\n",
    "\n",
    "cm = confusion_matrix(all_labels, all_preds, normalize=\"true\")\n",
    "disp = ConfusionMatrixDisplay(confusion_matrix=cm, display_labels=target_classes)\n",
    "\n",
    "disp.plot(cmap='viridis', xticks_rotation='vertical')\n",
    "plt.title(\"Confusion Matrix (Dual Feature Transformer)\")\n",
    "plt.show()\n",
    "\n",
    "print(\"Classification Report:\")\n",
    "print(classification_report(all_labels, all_preds, target_names=target_classes))"
   ]
  },
  {
   "cell_type": "code",
   "execution_count": null,
   "id": "94a5bfd8-70be-4e58-9089-927a5451f0b4",
   "metadata": {},
   "outputs": [],
   "source": [
    "report_dict = classification_report(all_labels, all_preds, target_names=target_classes, output_dict=True)\n",
    "report_df = pd.DataFrame(report_dict).transpose()\n",
    "\n",
    "save_path = os.path.join(results_dir, \"T3\")\n",
    "os.makedirs(save_path, exist_ok=True)\n",
    "\n",
    "if not use_projections:\n",
    "    report_df.to_csv(os.path.join(save_path, f\"classification_report_{label_source}_{morph_version}.csv\"))\n",
    "else:\n",
    "    report_df.to_csv(os.path.join(save_path, f\"classification_report_{label_source}_{morph_version}_proj.csv\"))"
   ]
  },
  {
   "cell_type": "code",
   "execution_count": 15,
   "id": "ba7862a0-b7ec-493b-978e-d6b78dc92cfc",
   "metadata": {},
   "outputs": [],
   "source": [
    "# split_save_dir = \"/rsrch5/home/plm/phacosta/xenium_project/Code/data_files\"\n",
    "\n",
    "# with open(f\"{split_save_dir}/train_test_indices.pkl\", \"wb\") as f:\n",
    "#     pickle.dump({\"train_idx\": train_idx, \"test_idx\": test_idx}, f)"
   ]
  },
  {
   "cell_type": "code",
   "execution_count": null,
   "id": "d856d5b5-f2eb-4086-8d1b-26afb4d394d7",
   "metadata": {},
   "outputs": [],
   "source": []
  }
 ],
 "metadata": {
  "kernelspec": {
   "display_name": "phacosta (py3.10.12)",
   "language": "python",
   "name": "phacosta"
  },
  "language_info": {
   "codemirror_mode": {
    "name": "ipython",
    "version": 3
   },
   "file_extension": ".py",
   "mimetype": "text/x-python",
   "name": "python",
   "nbconvert_exporter": "python",
   "pygments_lexer": "ipython3",
   "version": "3.10.12"
  }
 },
 "nbformat": 4,
 "nbformat_minor": 5
}
