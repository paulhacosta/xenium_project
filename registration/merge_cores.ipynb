{
 "cells": [
  {
   "cell_type": "code",
   "execution_count": 1,
   "id": "eda31d2b-5ff3-4cda-a31a-71dcdbf01cc7",
   "metadata": {},
   "outputs": [],
   "source": [
    "import os\n",
    "import tifffile as tf\n",
    "import numpy as np\n",
    "import geopandas as gpd\n",
    "from shapely.geometry import mapping\n",
    "from rasterio.features import rasterize\n",
    "from skimage.transform import resize as img_resize       \n",
    "import cv2\n",
    "from glob import glob\n"
   ]
  },
  {
   "cell_type": "code",
   "execution_count": 2,
   "id": "6de6bc72-72bb-4481-bb6d-c2f4ae71135e",
   "metadata": {},
   "outputs": [],
   "source": [
    "file_num = 0\n",
    "\n",
    "# Define original image paths\n",
    "data_dict = {\n",
    "        \"output-XETG00522__0066398__Region_1__20250515__183305\":\"Xenium H&E Meso1-ICON2 TMA 5-21-2025_matching_orientation.ome.tif\" ,\n",
    "        \"output-XETG00522__0066402__Region_1__20250515__183305\":\"Xenium H&E PCF TMA 5-28-2025_matching_orientation.ome.tif\"\n",
    "        }\n",
    "\n",
    "xenium_folder = list(data_dict.keys())[file_num]\n",
    "slide_name = data_dict[xenium_folder]\n",
    "\n",
    "# Define annotation paths\n",
    "root_dir = \"/rsrch9/home/plm/idso_fa1_pathology/TIER1/paul-xenium/TMP-IL-Pilot/20250515__183240__CIMAC_Validation/registration\"\n",
    "he_annot = os.path.join(root_dir, \"tma_annotations\", slide_name.replace(\".ome.tif\", \"_annot.geojson\"))\n",
    "\n",
    "core_img_dir = os.path.join(root_dir, \"palom_registration\", slide_name.split(\".\")[0], \"registered_cores\").replace(\" \", \"_\")\n",
    "output_path = os.path.join(root_dir, \"palom_registration\", slide_name.replace(\".ome.tif\", \"_registered.ome.tif\"))"
   ]
  },
  {
   "cell_type": "code",
   "execution_count": 3,
   "id": "2741fc85-42b2-4934-8054-56786872a86f",
   "metadata": {},
   "outputs": [],
   "source": [
    "## Helper functions \n",
    "\n",
    "def img_resize(img, scale_factor):\n",
    "    width  = int(np.floor(img.shape[1] * scale_factor))\n",
    "    height = int(np.floor(img.shape[0] * scale_factor))\n",
    "    return cv2.resize(img, (width, height), interpolation=cv2.INTER_AREA)\n",
    "\n",
    "def write_ome_tif(filename, image, channel_names,\n",
    "                  photometric_interp, metadata, subresolutions):\n",
    "    \n",
    "    with tf.TiffWriter(filename, bigtiff=True) as tif:\n",
    "        px_size_x = metadata['PhysicalSizeX']\n",
    "        px_size_y = metadata['PhysicalSizeY']\n",
    "\n",
    "        options = dict(\n",
    "            photometric=photometric_interp,\n",
    "            tile=(1024, 1024),\n",
    "            maxworkers=8,\n",
    "            compression='jpeg',\n",
    "            compressionargs={'level':85},\n",
    "            resolutionunit='CENTIMETER',\n",
    "        )\n",
    "\n",
    "        print(\"Writing pyramid level 0\")\n",
    "        tif.write(\n",
    "            image,\n",
    "            subifds=subresolutions,\n",
    "            resolution=(1e4 / px_size_x, 1e4 / px_size_y),\n",
    "            metadata=metadata,\n",
    "            **options,\n",
    "        )\n",
    "\n",
    "        scale = 1\n",
    "        for i in range(subresolutions):\n",
    "            scale *= 0.5\n",
    "            # down‑sample by 2×\n",
    "            if photometric_interp == 'minisblack':\n",
    "                if image.shape[0] < image.shape[-1]:\n",
    "                    image = np.moveaxis(image,0,-1)\n",
    "                    image = img_resize(image,0.5)\n",
    "                    image = np.moveaxis(image,-1,0)\n",
    "            else:\n",
    "                image = img_resize(image,0.5)\n",
    "\n",
    "            print(\"Writing pyramid level {}\".format(i+1))\n",
    "            tif.write(\n",
    "                image,\n",
    "                subfiletype=1,\n",
    "                resolution=(1e4 / scale / px_size_x, 1e4 / scale / px_size_y),\n",
    "                **options\n",
    "            )\n",
    "            \n",
    "    print(\"Saved:\", filename)\n"
   ]
  },
  {
   "cell_type": "code",
   "execution_count": 4,
   "id": "90b33a36-25e0-46d4-be25-4fe7abe1fcf4",
   "metadata": {},
   "outputs": [
    {
     "name": "stdout",
     "output_type": "stream",
     "text": [
      "Found 28 core images in directory\n"
     ]
    }
   ],
   "source": [
    "subres_levels  = 7                                        \n",
    "core_img_list = sorted(glob(os.path.join(core_img_dir, \"*.ome.tif\")))\n",
    "print(f\"Found {len(core_img_list)} core images in directory\") \n",
    "sample_core = core_img_list[0]"
   ]
  },
  {
   "cell_type": "code",
   "execution_count": 5,
   "id": "275ae953-fe3c-4cc9-995b-a45862e63370",
   "metadata": {},
   "outputs": [
    {
     "name": "stdout",
     "output_type": "stream",
     "text": [
      "Initializing empty slide with A-4_registered.ome.tif...\n",
      "Slide initialized: (108707, 48292, 3)\n"
     ]
    }
   ],
   "source": [
    "print(f\"Initializing empty slide with {os.path.basename(sample_core)}...\") \n",
    "\n",
    "with tf.TiffFile(sample_core) as tif:\n",
    "    reconstructed_slide = tif.asarray()                              # (H, W, 3)\n",
    "\n",
    "    if not tif.is_ome:\n",
    "        raise RuntimeError(\"Input is not OME‑TIFF.\")\n",
    "\n",
    "    meta_dict = tf.xml2dict(tif.ome_metadata)\n",
    "    px_x   = meta_dict['OME']['Image']['Pixels']['PhysicalSizeX']\n",
    "    px_y   = meta_dict['OME']['Image']['Pixels']['PhysicalSizeY']\n",
    "    unit   = meta_dict['OME']['Image']['Pixels']['PhysicalSizeXUnit']\n",
    "    try:\n",
    "        channel_names = [\n",
    "            ch['Name'] for ch in meta_dict['OME']['Image']['Pixels']['Channel']\n",
    "        ]\n",
    "    except (KeyError, TypeError) as e:\n",
    "        channel_names = None\n",
    "\n",
    "H, W, C = reconstructed_slide.shape\n",
    "photometric = 'rgb' \n",
    "metadata = {\n",
    "    'PhysicalSizeX': px_x,\n",
    "    'PhysicalSizeXUnit': unit,\n",
    "    'PhysicalSizeY': px_y,\n",
    "    'PhysicalSizeYUnit': unit,\n",
    "    'Channel': {'Name': channel_names},\n",
    "}\n",
    "print(\"Slide initialized:\", reconstructed_slide.shape)"
   ]
  },
  {
   "cell_type": "code",
   "execution_count": 8,
   "id": "6eb1035e-058c-4923-a952-35209470bbca",
   "metadata": {},
   "outputs": [],
   "source": [
    "# load core polygons ---------------------------------------\n",
    "gdf = gpd.read_file(he_annot)\n",
    "# gdf = gdf[gdf['isMissing'] == False].reset_index(drop=True)"
   ]
  },
  {
   "cell_type": "code",
   "execution_count": 9,
   "id": "0916cd95-c389-40b0-889e-e933855f4c4a",
   "metadata": {},
   "outputs": [
    {
     "name": "stdout",
     "output_type": "stream",
     "text": [
      "Repopulating cores...\n",
      "Adding A-5 to image reconstruction\n",
      "Adding A-6 to image reconstruction\n",
      "Adding B-1 to image reconstruction\n",
      "Adding B-4 to image reconstruction\n",
      "Adding B-5 to image reconstruction\n",
      "Adding B-6 to image reconstruction\n",
      "Adding C-3 to image reconstruction\n",
      "Adding C-4 to image reconstruction\n",
      "Adding C-5 to image reconstruction\n",
      "Adding C-6 to image reconstruction\n",
      "Adding D-2 to image reconstruction\n",
      "Adding D-4 to image reconstruction\n",
      "Adding D-5 to image reconstruction\n",
      "Adding E-1 to image reconstruction\n",
      "Adding E-2 to image reconstruction\n",
      "Adding E-5 to image reconstruction\n",
      "Adding E-6 to image reconstruction\n",
      "Adding F-1 to image reconstruction\n",
      "Adding F-6 to image reconstruction\n",
      "Adding G-1 to image reconstruction\n",
      "Adding G-6 to image reconstruction\n",
      "Adding H-1 to image reconstruction\n",
      "Adding H-6 to image reconstruction\n",
      "Adding I-1 to image reconstruction\n",
      "Adding I-6 to image reconstruction\n",
      "Adding J-1 to image reconstruction\n",
      "Adding D-3 to image reconstruction\n",
      "\n",
      "── Writing reconstructed slide Xenium H&E Meso1-ICON2 TMA 5-21-2025_matching_orientation_registered.ome.tif\n",
      "Writing pyramid level 0\n",
      "Writing pyramid level 1\n",
      "Writing pyramid level 2\n",
      "Writing pyramid level 3\n",
      "Writing pyramid level 4\n",
      "Writing pyramid level 5\n",
      "Writing pyramid level 6\n",
      "Writing pyramid level 7\n",
      "Saved: /rsrch9/home/plm/idso_fa1_pathology/TIER1/paul-xenium/TMP-IL-Pilot/20250515__183240__CIMAC_Validation/registration/palom_registration/Xenium H&E Meso1-ICON2 TMA 5-21-2025_matching_orientation_registered.ome.tif\n"
     ]
    }
   ],
   "source": [
    "# iterate over cores ---------------------------------------\n",
    "print(\"Repopulating cores...\")\n",
    "for idx, row in gdf.iterrows():\n",
    "    core_id = row.get('name', f'core_{idx + 1}')\n",
    "\n",
    "    core_path = os.path.join(core_img_dir, f\"{core_id}_registered.ome.tif\")\n",
    "    \n",
    "    assert os.path.exists(core_path), f\"Registered core image not found for {core_id}\"\n",
    "    if core_path == sample_core:\n",
    "        continue\n",
    "        \n",
    "    print(f\"Adding {core_id} to image reconstruction\") \n",
    "\n",
    "    with tf.TiffFile(core_path) as tif:\n",
    "        core_image = tif.asarray()                              # (H, W, 3)\n",
    "\n",
    "    # Find foreground (background is white space)\n",
    "    mask_bool = np.any(core_image != [255, 255, 255], axis=-1).astype(bool)\n",
    "\n",
    "    reconstructed_slide[mask_bool, :] = core_image[mask_bool,:]\n",
    "    \n",
    "print(f\"\\n── Writing reconstructed slide {os.path.basename(output_path)}\")\n",
    "write_ome_tif(\n",
    "    filename=output_path,\n",
    "    image=reconstructed_slide,\n",
    "    channel_names=channel_names,\n",
    "    photometric_interp=photometric,\n",
    "    metadata=metadata,\n",
    "    subresolutions=subres_levels,\n",
    ")\n"
   ]
  },
  {
   "cell_type": "code",
   "execution_count": 7,
   "id": "baf0eba8-84fc-457e-93c0-271c6e3f13c3",
   "metadata": {},
   "outputs": [
    {
     "data": {
      "text/plain": [
       "'/rsrch9/home/plm/idso_fa1_pathology/TIER1/paul-xenium/TMP-IL-Pilot/20250515__183240__CIMAC_Validation/registration/palom_registration/Xenium_H&E_Meso1-ICON2_TMA_5-21-2025_matching_orientation/registered_cores/A-4_registered.ome.tif'"
      ]
     },
     "execution_count": 7,
     "metadata": {},
     "output_type": "execute_result"
    }
   ],
   "source": [
    "sample_core"
   ]
  },
  {
   "cell_type": "code",
   "execution_count": null,
   "id": "aa77d2d8-6700-4b8a-a8aa-05bde22bdc90",
   "metadata": {},
   "outputs": [],
   "source": []
  }
 ],
 "metadata": {
  "kernelspec": {
   "display_name": "phacosta (py3.10.12)",
   "language": "python",
   "name": "phacosta"
  },
  "language_info": {
   "codemirror_mode": {
    "name": "ipython",
    "version": 3
   },
   "file_extension": ".py",
   "mimetype": "text/x-python",
   "name": "python",
   "nbconvert_exporter": "python",
   "pygments_lexer": "ipython3",
   "version": "3.10.12"
  }
 },
 "nbformat": 4,
 "nbformat_minor": 5
}
