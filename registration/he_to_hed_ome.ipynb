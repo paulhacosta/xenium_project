{
 "cells": [
  {
   "cell_type": "code",
   "execution_count": 1,
   "id": "540d3137-ff52-41a8-9062-e99e1871b699",
   "metadata": {},
   "outputs": [
    {
     "name": "stderr",
     "output_type": "stream",
     "text": [
      "/rsrch5/home/plm/phacosta/.local/lib/python3.10/site-packages/tqdm/auto.py:21: TqdmWarning: IProgress not found. Please update jupyter and ipywidgets. See https://ipywidgets.readthedocs.io/en/stable/user_install.html\n",
      "  from .autonotebook import tqdm as notebook_tqdm\n"
     ]
    }
   ],
   "source": [
    "#%%\n",
    "import os\n",
    "import tifffile as tf\n",
    "import numpy as np\n",
    "import cv2\n",
    "from skimage.color import rgb2hed\n",
    "import dask.array as da\n",
    "from tqdm import tqdm\n",
    "from skimage.color import separate_stains, hed_from_rgb\n",
    "import matplotlib.pyplot as plt\n",
    "import pyvips\n",
    "from skimage.exposure import rescale_intensity\n",
    "import geopandas as gpd "
   ]
  },
  {
   "cell_type": "code",
   "execution_count": 2,
   "id": "8d95de7b-e09e-4a7e-8e4c-4d7027d8d853",
   "metadata": {},
   "outputs": [],
   "source": [
    "# --- Helper: Resize image ---\n",
    "def img_resize(img, scale_factor):\n",
    "    height = int(np.floor(img.shape[0] * scale_factor))\n",
    "    width = int(np.floor(img.shape[1] * scale_factor))\n",
    "    return cv2.resize(img, (width, height), interpolation=cv2.INTER_AREA)\n",
    "\n",
    "# --- Your write_ome_tif function ---\n",
    "def write_ome_tif(filename, image, channel_names,\n",
    "                  photometric_interp, metadata, subresolutions):\n",
    "    \n",
    "    with tf.TiffWriter(filename, bigtiff=True) as tif:\n",
    "        px_size_x = metadata['PhysicalSizeX']\n",
    "        px_size_y = metadata['PhysicalSizeY']\n",
    "\n",
    "        options = dict(\n",
    "            photometric=photometric_interp,\n",
    "            tile=(1024, 1024),\n",
    "            maxworkers=4,\n",
    "            compression='lzw',\n",
    "            resolutionunit='CENTIMETER',\n",
    "        )\n",
    "\n",
    "        print(\"Writing pyramid level 0\")\n",
    "        tif.write(\n",
    "            image,\n",
    "            subifds=subresolutions,\n",
    "            resolution=(1e4 / px_size_x, 1e4 / px_size_y),\n",
    "            metadata=metadata,\n",
    "            **options,\n",
    "        )\n",
    "\n",
    "        scale = 1\n",
    "        for i in range(subresolutions):\n",
    "            scale *= 0.5\n",
    "            if photometric_interp == 'minisblack':\n",
    "                if image.shape[0] < image.shape[-1]:  # (C, H, W) -> (H, W, C)\n",
    "                    image = np.moveaxis(image, 0, -1)\n",
    "                    image = img_resize(image, 0.5)\n",
    "                    image = np.moveaxis(image, -1, 0)\n",
    "                else:\n",
    "                    image = img_resize(image, 0.5)\n",
    "            else:\n",
    "                image = img_resize(image, 0.5)\n",
    "\n",
    "            print(f\"Writing pyramid level {i+1}\")\n",
    "            tif.write(\n",
    "                image,\n",
    "                subfiletype=1,\n",
    "                resolution=(1e4 / scale / px_size_x, 1e4 / scale / px_size_y),\n",
    "                **options\n",
    "            )\n",
    "    print(\"Saved:\", filename)"
   ]
  },
  {
   "cell_type": "code",
   "execution_count": 3,
   "id": "a4197c66-1515-46cc-9802-2b264419e418",
   "metadata": {},
   "outputs": [
    {
     "name": "stdout",
     "output_type": "stream",
     "text": [
      "Input H&E file: /rsrch9/home/plm/idso_fa1_pathology/TIER1/paul-xenium/TMP-IL-Pilot/20250515__183240__CIMAC_Validation/registration/HnE/Xenium H&E Meso1-ICON2 TMA 5-21-2025_matching_orientation.ome.tif/he_A-4.ome.tif\n",
      "Output HED file: /rsrch9/home/plm/idso_fa1_pathology/TIER1/paul-xenium/TMP-IL-Pilot/20250515__183240__CIMAC_Validation/registration/HnE/Xenium H&E Meso1-ICON2 TMA 5-21-2025_matching_orientation.ome.tif/he_A-4_HED.ome.tif\n"
     ]
    },
    {
     "name": "stderr",
     "output_type": "stream",
     "text": [
      "Extracting hematoxylin: 100%|██████████| 106/106 [11:02<00:00,  6.25s/it]\n"
     ]
    },
    {
     "name": "stdout",
     "output_type": "stream",
     "text": [
      "Writing pyramid level 0\n",
      "Writing pyramid level 1\n",
      "Writing pyramid level 2\n",
      "Writing pyramid level 3\n",
      "Writing pyramid level 4\n",
      "Writing pyramid level 5\n",
      "Writing pyramid level 6\n",
      "Writing pyramid level 7\n",
      "Saved: /rsrch9/home/plm/idso_fa1_pathology/TIER1/paul-xenium/TMP-IL-Pilot/20250515__183240__CIMAC_Validation/registration/HnE/Xenium H&E Meso1-ICON2 TMA 5-21-2025_matching_orientation.ome.tif/he_A-4_HED.ome.tif\n",
      "Input H&E file: /rsrch9/home/plm/idso_fa1_pathology/TIER1/paul-xenium/TMP-IL-Pilot/20250515__183240__CIMAC_Validation/registration/HnE/Xenium H&E Meso1-ICON2 TMA 5-21-2025_matching_orientation.ome.tif/he_A-6.ome.tif\n",
      "Output HED file: /rsrch9/home/plm/idso_fa1_pathology/TIER1/paul-xenium/TMP-IL-Pilot/20250515__183240__CIMAC_Validation/registration/HnE/Xenium H&E Meso1-ICON2 TMA 5-21-2025_matching_orientation.ome.tif/he_A-6_HED.ome.tif\n"
     ]
    },
    {
     "name": "stderr",
     "output_type": "stream",
     "text": [
      "Extracting hematoxylin: 100%|██████████| 106/106 [11:02<00:00,  6.25s/it]\n"
     ]
    },
    {
     "name": "stdout",
     "output_type": "stream",
     "text": [
      "Writing pyramid level 0\n",
      "Writing pyramid level 1\n",
      "Writing pyramid level 2\n",
      "Writing pyramid level 3\n",
      "Writing pyramid level 4\n",
      "Writing pyramid level 5\n",
      "Writing pyramid level 6\n",
      "Writing pyramid level 7\n",
      "Saved: /rsrch9/home/plm/idso_fa1_pathology/TIER1/paul-xenium/TMP-IL-Pilot/20250515__183240__CIMAC_Validation/registration/HnE/Xenium H&E Meso1-ICON2 TMA 5-21-2025_matching_orientation.ome.tif/he_A-6_HED.ome.tif\n",
      "Input H&E file: /rsrch9/home/plm/idso_fa1_pathology/TIER1/paul-xenium/TMP-IL-Pilot/20250515__183240__CIMAC_Validation/registration/HnE/Xenium H&E Meso1-ICON2 TMA 5-21-2025_matching_orientation.ome.tif/he_C-3.ome.tif\n",
      "Output HED file: /rsrch9/home/plm/idso_fa1_pathology/TIER1/paul-xenium/TMP-IL-Pilot/20250515__183240__CIMAC_Validation/registration/HnE/Xenium H&E Meso1-ICON2 TMA 5-21-2025_matching_orientation.ome.tif/he_C-3_HED.ome.tif\n"
     ]
    },
    {
     "name": "stderr",
     "output_type": "stream",
     "text": [
      "Extracting hematoxylin: 100%|██████████| 106/106 [11:19<00:00,  6.41s/it]\n"
     ]
    },
    {
     "name": "stdout",
     "output_type": "stream",
     "text": [
      "Writing pyramid level 0\n",
      "Writing pyramid level 1\n",
      "Writing pyramid level 2\n",
      "Writing pyramid level 3\n",
      "Writing pyramid level 4\n",
      "Writing pyramid level 5\n",
      "Writing pyramid level 6\n",
      "Writing pyramid level 7\n",
      "Saved: /rsrch9/home/plm/idso_fa1_pathology/TIER1/paul-xenium/TMP-IL-Pilot/20250515__183240__CIMAC_Validation/registration/HnE/Xenium H&E Meso1-ICON2 TMA 5-21-2025_matching_orientation.ome.tif/he_C-3_HED.ome.tif\n",
      "Input H&E file: /rsrch9/home/plm/idso_fa1_pathology/TIER1/paul-xenium/TMP-IL-Pilot/20250515__183240__CIMAC_Validation/registration/HnE/Xenium H&E Meso1-ICON2 TMA 5-21-2025_matching_orientation.ome.tif/he_C-4.ome.tif\n",
      "Output HED file: /rsrch9/home/plm/idso_fa1_pathology/TIER1/paul-xenium/TMP-IL-Pilot/20250515__183240__CIMAC_Validation/registration/HnE/Xenium H&E Meso1-ICON2 TMA 5-21-2025_matching_orientation.ome.tif/he_C-4_HED.ome.tif\n"
     ]
    },
    {
     "name": "stderr",
     "output_type": "stream",
     "text": [
      "Extracting hematoxylin: 100%|██████████| 106/106 [11:00<00:00,  6.23s/it]\n"
     ]
    },
    {
     "name": "stdout",
     "output_type": "stream",
     "text": [
      "Writing pyramid level 0\n",
      "Writing pyramid level 1\n",
      "Writing pyramid level 2\n",
      "Writing pyramid level 3\n",
      "Writing pyramid level 4\n",
      "Writing pyramid level 5\n",
      "Writing pyramid level 6\n",
      "Writing pyramid level 7\n",
      "Saved: /rsrch9/home/plm/idso_fa1_pathology/TIER1/paul-xenium/TMP-IL-Pilot/20250515__183240__CIMAC_Validation/registration/HnE/Xenium H&E Meso1-ICON2 TMA 5-21-2025_matching_orientation.ome.tif/he_C-4_HED.ome.tif\n",
      "Input H&E file: /rsrch9/home/plm/idso_fa1_pathology/TIER1/paul-xenium/TMP-IL-Pilot/20250515__183240__CIMAC_Validation/registration/HnE/Xenium H&E Meso1-ICON2 TMA 5-21-2025_matching_orientation.ome.tif/he_C-5.ome.tif\n",
      "Output HED file: /rsrch9/home/plm/idso_fa1_pathology/TIER1/paul-xenium/TMP-IL-Pilot/20250515__183240__CIMAC_Validation/registration/HnE/Xenium H&E Meso1-ICON2 TMA 5-21-2025_matching_orientation.ome.tif/he_C-5_HED.ome.tif\n"
     ]
    },
    {
     "name": "stderr",
     "output_type": "stream",
     "text": [
      "Extracting hematoxylin: 100%|██████████| 106/106 [10:47<00:00,  6.11s/it]\n"
     ]
    },
    {
     "name": "stdout",
     "output_type": "stream",
     "text": [
      "Writing pyramid level 0\n",
      "Writing pyramid level 1\n",
      "Writing pyramid level 2\n",
      "Writing pyramid level 3\n",
      "Writing pyramid level 4\n",
      "Writing pyramid level 5\n",
      "Writing pyramid level 6\n",
      "Writing pyramid level 7\n",
      "Saved: /rsrch9/home/plm/idso_fa1_pathology/TIER1/paul-xenium/TMP-IL-Pilot/20250515__183240__CIMAC_Validation/registration/HnE/Xenium H&E Meso1-ICON2 TMA 5-21-2025_matching_orientation.ome.tif/he_C-5_HED.ome.tif\n",
      "Input H&E file: /rsrch9/home/plm/idso_fa1_pathology/TIER1/paul-xenium/TMP-IL-Pilot/20250515__183240__CIMAC_Validation/registration/HnE/Xenium H&E Meso1-ICON2 TMA 5-21-2025_matching_orientation.ome.tif/he_D-5.ome.tif\n",
      "Output HED file: /rsrch9/home/plm/idso_fa1_pathology/TIER1/paul-xenium/TMP-IL-Pilot/20250515__183240__CIMAC_Validation/registration/HnE/Xenium H&E Meso1-ICON2 TMA 5-21-2025_matching_orientation.ome.tif/he_D-5_HED.ome.tif\n"
     ]
    },
    {
     "name": "stderr",
     "output_type": "stream",
     "text": [
      "Extracting hematoxylin: 100%|██████████| 106/106 [11:08<00:00,  6.31s/it]\n"
     ]
    },
    {
     "name": "stdout",
     "output_type": "stream",
     "text": [
      "Writing pyramid level 0\n",
      "Writing pyramid level 1\n",
      "Writing pyramid level 2\n",
      "Writing pyramid level 3\n",
      "Writing pyramid level 4\n",
      "Writing pyramid level 5\n",
      "Writing pyramid level 6\n",
      "Writing pyramid level 7\n",
      "Saved: /rsrch9/home/plm/idso_fa1_pathology/TIER1/paul-xenium/TMP-IL-Pilot/20250515__183240__CIMAC_Validation/registration/HnE/Xenium H&E Meso1-ICON2 TMA 5-21-2025_matching_orientation.ome.tif/he_D-5_HED.ome.tif\n",
      "Input H&E file: /rsrch9/home/plm/idso_fa1_pathology/TIER1/paul-xenium/TMP-IL-Pilot/20250515__183240__CIMAC_Validation/registration/HnE/Xenium H&E Meso1-ICON2 TMA 5-21-2025_matching_orientation.ome.tif/he_E-2.ome.tif\n",
      "Output HED file: /rsrch9/home/plm/idso_fa1_pathology/TIER1/paul-xenium/TMP-IL-Pilot/20250515__183240__CIMAC_Validation/registration/HnE/Xenium H&E Meso1-ICON2 TMA 5-21-2025_matching_orientation.ome.tif/he_E-2_HED.ome.tif\n"
     ]
    },
    {
     "name": "stderr",
     "output_type": "stream",
     "text": [
      "Extracting hematoxylin: 100%|██████████| 106/106 [10:43<00:00,  6.07s/it]\n"
     ]
    },
    {
     "name": "stdout",
     "output_type": "stream",
     "text": [
      "Writing pyramid level 0\n",
      "Writing pyramid level 1\n",
      "Writing pyramid level 2\n",
      "Writing pyramid level 3\n",
      "Writing pyramid level 4\n",
      "Writing pyramid level 5\n",
      "Writing pyramid level 6\n",
      "Writing pyramid level 7\n",
      "Saved: /rsrch9/home/plm/idso_fa1_pathology/TIER1/paul-xenium/TMP-IL-Pilot/20250515__183240__CIMAC_Validation/registration/HnE/Xenium H&E Meso1-ICON2 TMA 5-21-2025_matching_orientation.ome.tif/he_E-2_HED.ome.tif\n",
      "Input H&E file: /rsrch9/home/plm/idso_fa1_pathology/TIER1/paul-xenium/TMP-IL-Pilot/20250515__183240__CIMAC_Validation/registration/HnE/Xenium H&E Meso1-ICON2 TMA 5-21-2025_matching_orientation.ome.tif/he_E-5.ome.tif\n",
      "Output HED file: /rsrch9/home/plm/idso_fa1_pathology/TIER1/paul-xenium/TMP-IL-Pilot/20250515__183240__CIMAC_Validation/registration/HnE/Xenium H&E Meso1-ICON2 TMA 5-21-2025_matching_orientation.ome.tif/he_E-5_HED.ome.tif\n"
     ]
    },
    {
     "name": "stderr",
     "output_type": "stream",
     "text": [
      "Extracting hematoxylin: 100%|██████████| 106/106 [11:08<00:00,  6.30s/it]\n"
     ]
    },
    {
     "name": "stdout",
     "output_type": "stream",
     "text": [
      "Writing pyramid level 0\n",
      "Writing pyramid level 1\n",
      "Writing pyramid level 2\n",
      "Writing pyramid level 3\n",
      "Writing pyramid level 4\n",
      "Writing pyramid level 5\n",
      "Writing pyramid level 6\n",
      "Writing pyramid level 7\n",
      "Saved: /rsrch9/home/plm/idso_fa1_pathology/TIER1/paul-xenium/TMP-IL-Pilot/20250515__183240__CIMAC_Validation/registration/HnE/Xenium H&E Meso1-ICON2 TMA 5-21-2025_matching_orientation.ome.tif/he_E-5_HED.ome.tif\n",
      "Input H&E file: /rsrch9/home/plm/idso_fa1_pathology/TIER1/paul-xenium/TMP-IL-Pilot/20250515__183240__CIMAC_Validation/registration/HnE/Xenium H&E Meso1-ICON2 TMA 5-21-2025_matching_orientation.ome.tif/he_E-6.ome.tif\n",
      "Output HED file: /rsrch9/home/plm/idso_fa1_pathology/TIER1/paul-xenium/TMP-IL-Pilot/20250515__183240__CIMAC_Validation/registration/HnE/Xenium H&E Meso1-ICON2 TMA 5-21-2025_matching_orientation.ome.tif/he_E-6_HED.ome.tif\n"
     ]
    },
    {
     "name": "stderr",
     "output_type": "stream",
     "text": [
      "Extracting hematoxylin: 100%|██████████| 106/106 [10:52<00:00,  6.15s/it]\n"
     ]
    },
    {
     "name": "stdout",
     "output_type": "stream",
     "text": [
      "Writing pyramid level 0\n",
      "Writing pyramid level 1\n",
      "Writing pyramid level 2\n",
      "Writing pyramid level 3\n",
      "Writing pyramid level 4\n",
      "Writing pyramid level 5\n",
      "Writing pyramid level 6\n",
      "Writing pyramid level 7\n",
      "Saved: /rsrch9/home/plm/idso_fa1_pathology/TIER1/paul-xenium/TMP-IL-Pilot/20250515__183240__CIMAC_Validation/registration/HnE/Xenium H&E Meso1-ICON2 TMA 5-21-2025_matching_orientation.ome.tif/he_E-6_HED.ome.tif\n",
      "Input H&E file: /rsrch9/home/plm/idso_fa1_pathology/TIER1/paul-xenium/TMP-IL-Pilot/20250515__183240__CIMAC_Validation/registration/HnE/Xenium H&E Meso1-ICON2 TMA 5-21-2025_matching_orientation.ome.tif/he_F-1.ome.tif\n",
      "Output HED file: /rsrch9/home/plm/idso_fa1_pathology/TIER1/paul-xenium/TMP-IL-Pilot/20250515__183240__CIMAC_Validation/registration/HnE/Xenium H&E Meso1-ICON2 TMA 5-21-2025_matching_orientation.ome.tif/he_F-1_HED.ome.tif\n"
     ]
    },
    {
     "name": "stderr",
     "output_type": "stream",
     "text": [
      "Extracting hematoxylin: 100%|██████████| 106/106 [10:55<00:00,  6.19s/it]\n"
     ]
    },
    {
     "name": "stdout",
     "output_type": "stream",
     "text": [
      "Writing pyramid level 0\n",
      "Writing pyramid level 1\n",
      "Writing pyramid level 2\n",
      "Writing pyramid level 3\n",
      "Writing pyramid level 4\n",
      "Writing pyramid level 5\n",
      "Writing pyramid level 6\n",
      "Writing pyramid level 7\n",
      "Saved: /rsrch9/home/plm/idso_fa1_pathology/TIER1/paul-xenium/TMP-IL-Pilot/20250515__183240__CIMAC_Validation/registration/HnE/Xenium H&E Meso1-ICON2 TMA 5-21-2025_matching_orientation.ome.tif/he_F-1_HED.ome.tif\n",
      "Input H&E file: /rsrch9/home/plm/idso_fa1_pathology/TIER1/paul-xenium/TMP-IL-Pilot/20250515__183240__CIMAC_Validation/registration/HnE/Xenium H&E Meso1-ICON2 TMA 5-21-2025_matching_orientation.ome.tif/he_F-6.ome.tif\n",
      "Output HED file: /rsrch9/home/plm/idso_fa1_pathology/TIER1/paul-xenium/TMP-IL-Pilot/20250515__183240__CIMAC_Validation/registration/HnE/Xenium H&E Meso1-ICON2 TMA 5-21-2025_matching_orientation.ome.tif/he_F-6_HED.ome.tif\n"
     ]
    },
    {
     "name": "stderr",
     "output_type": "stream",
     "text": [
      "Extracting hematoxylin: 100%|██████████| 106/106 [10:47<00:00,  6.11s/it]\n"
     ]
    },
    {
     "name": "stdout",
     "output_type": "stream",
     "text": [
      "Writing pyramid level 0\n",
      "Writing pyramid level 1\n",
      "Writing pyramid level 2\n",
      "Writing pyramid level 3\n",
      "Writing pyramid level 4\n",
      "Writing pyramid level 5\n",
      "Writing pyramid level 6\n",
      "Writing pyramid level 7\n",
      "Saved: /rsrch9/home/plm/idso_fa1_pathology/TIER1/paul-xenium/TMP-IL-Pilot/20250515__183240__CIMAC_Validation/registration/HnE/Xenium H&E Meso1-ICON2 TMA 5-21-2025_matching_orientation.ome.tif/he_F-6_HED.ome.tif\n",
      "Input H&E file: /rsrch9/home/plm/idso_fa1_pathology/TIER1/paul-xenium/TMP-IL-Pilot/20250515__183240__CIMAC_Validation/registration/HnE/Xenium H&E Meso1-ICON2 TMA 5-21-2025_matching_orientation.ome.tif/he_G-6.ome.tif\n",
      "Output HED file: /rsrch9/home/plm/idso_fa1_pathology/TIER1/paul-xenium/TMP-IL-Pilot/20250515__183240__CIMAC_Validation/registration/HnE/Xenium H&E Meso1-ICON2 TMA 5-21-2025_matching_orientation.ome.tif/he_G-6_HED.ome.tif\n"
     ]
    },
    {
     "name": "stderr",
     "output_type": "stream",
     "text": [
      "Extracting hematoxylin: 100%|██████████| 106/106 [11:01<00:00,  6.24s/it]\n"
     ]
    },
    {
     "name": "stdout",
     "output_type": "stream",
     "text": [
      "Writing pyramid level 0\n",
      "Writing pyramid level 1\n",
      "Writing pyramid level 2\n",
      "Writing pyramid level 3\n",
      "Writing pyramid level 4\n",
      "Writing pyramid level 5\n",
      "Writing pyramid level 6\n",
      "Writing pyramid level 7\n",
      "Saved: /rsrch9/home/plm/idso_fa1_pathology/TIER1/paul-xenium/TMP-IL-Pilot/20250515__183240__CIMAC_Validation/registration/HnE/Xenium H&E Meso1-ICON2 TMA 5-21-2025_matching_orientation.ome.tif/he_G-6_HED.ome.tif\n",
      "Input H&E file: /rsrch9/home/plm/idso_fa1_pathology/TIER1/paul-xenium/TMP-IL-Pilot/20250515__183240__CIMAC_Validation/registration/HnE/Xenium H&E Meso1-ICON2 TMA 5-21-2025_matching_orientation.ome.tif/he_H-1.ome.tif\n",
      "Output HED file: /rsrch9/home/plm/idso_fa1_pathology/TIER1/paul-xenium/TMP-IL-Pilot/20250515__183240__CIMAC_Validation/registration/HnE/Xenium H&E Meso1-ICON2 TMA 5-21-2025_matching_orientation.ome.tif/he_H-1_HED.ome.tif\n"
     ]
    },
    {
     "name": "stderr",
     "output_type": "stream",
     "text": [
      "Extracting hematoxylin: 100%|██████████| 106/106 [10:41<00:00,  6.05s/it]\n"
     ]
    },
    {
     "name": "stdout",
     "output_type": "stream",
     "text": [
      "Writing pyramid level 0\n",
      "Writing pyramid level 1\n",
      "Writing pyramid level 2\n",
      "Writing pyramid level 3\n",
      "Writing pyramid level 4\n",
      "Writing pyramid level 5\n",
      "Writing pyramid level 6\n",
      "Writing pyramid level 7\n",
      "Saved: /rsrch9/home/plm/idso_fa1_pathology/TIER1/paul-xenium/TMP-IL-Pilot/20250515__183240__CIMAC_Validation/registration/HnE/Xenium H&E Meso1-ICON2 TMA 5-21-2025_matching_orientation.ome.tif/he_H-1_HED.ome.tif\n",
      "Input H&E file: /rsrch9/home/plm/idso_fa1_pathology/TIER1/paul-xenium/TMP-IL-Pilot/20250515__183240__CIMAC_Validation/registration/HnE/Xenium H&E Meso1-ICON2 TMA 5-21-2025_matching_orientation.ome.tif/he_H-6.ome.tif\n",
      "Output HED file: /rsrch9/home/plm/idso_fa1_pathology/TIER1/paul-xenium/TMP-IL-Pilot/20250515__183240__CIMAC_Validation/registration/HnE/Xenium H&E Meso1-ICON2 TMA 5-21-2025_matching_orientation.ome.tif/he_H-6_HED.ome.tif\n"
     ]
    },
    {
     "name": "stderr",
     "output_type": "stream",
     "text": [
      "Extracting hematoxylin: 100%|██████████| 106/106 [11:04<00:00,  6.27s/it]\n"
     ]
    },
    {
     "name": "stdout",
     "output_type": "stream",
     "text": [
      "Writing pyramid level 0\n",
      "Writing pyramid level 1\n",
      "Writing pyramid level 2\n",
      "Writing pyramid level 3\n",
      "Writing pyramid level 4\n",
      "Writing pyramid level 5\n",
      "Writing pyramid level 6\n",
      "Writing pyramid level 7\n",
      "Saved: /rsrch9/home/plm/idso_fa1_pathology/TIER1/paul-xenium/TMP-IL-Pilot/20250515__183240__CIMAC_Validation/registration/HnE/Xenium H&E Meso1-ICON2 TMA 5-21-2025_matching_orientation.ome.tif/he_H-6_HED.ome.tif\n",
      "Input H&E file: /rsrch9/home/plm/idso_fa1_pathology/TIER1/paul-xenium/TMP-IL-Pilot/20250515__183240__CIMAC_Validation/registration/HnE/Xenium H&E Meso1-ICON2 TMA 5-21-2025_matching_orientation.ome.tif/he_I-1.ome.tif\n",
      "Output HED file: /rsrch9/home/plm/idso_fa1_pathology/TIER1/paul-xenium/TMP-IL-Pilot/20250515__183240__CIMAC_Validation/registration/HnE/Xenium H&E Meso1-ICON2 TMA 5-21-2025_matching_orientation.ome.tif/he_I-1_HED.ome.tif\n"
     ]
    },
    {
     "name": "stderr",
     "output_type": "stream",
     "text": [
      "Extracting hematoxylin: 100%|██████████| 106/106 [11:00<00:00,  6.23s/it]\n"
     ]
    },
    {
     "name": "stdout",
     "output_type": "stream",
     "text": [
      "Writing pyramid level 0\n",
      "Writing pyramid level 1\n",
      "Writing pyramid level 2\n",
      "Writing pyramid level 3\n",
      "Writing pyramid level 4\n",
      "Writing pyramid level 5\n",
      "Writing pyramid level 6\n",
      "Writing pyramid level 7\n",
      "Saved: /rsrch9/home/plm/idso_fa1_pathology/TIER1/paul-xenium/TMP-IL-Pilot/20250515__183240__CIMAC_Validation/registration/HnE/Xenium H&E Meso1-ICON2 TMA 5-21-2025_matching_orientation.ome.tif/he_I-1_HED.ome.tif\n",
      "Input H&E file: /rsrch9/home/plm/idso_fa1_pathology/TIER1/paul-xenium/TMP-IL-Pilot/20250515__183240__CIMAC_Validation/registration/HnE/Xenium H&E Meso1-ICON2 TMA 5-21-2025_matching_orientation.ome.tif/he_I-6.ome.tif\n",
      "Output HED file: /rsrch9/home/plm/idso_fa1_pathology/TIER1/paul-xenium/TMP-IL-Pilot/20250515__183240__CIMAC_Validation/registration/HnE/Xenium H&E Meso1-ICON2 TMA 5-21-2025_matching_orientation.ome.tif/he_I-6_HED.ome.tif\n"
     ]
    },
    {
     "name": "stderr",
     "output_type": "stream",
     "text": [
      "Extracting hematoxylin: 100%|██████████| 106/106 [11:02<00:00,  6.25s/it]\n"
     ]
    },
    {
     "name": "stdout",
     "output_type": "stream",
     "text": [
      "Writing pyramid level 0\n",
      "Writing pyramid level 1\n",
      "Writing pyramid level 2\n",
      "Writing pyramid level 3\n",
      "Writing pyramid level 4\n",
      "Writing pyramid level 5\n",
      "Writing pyramid level 6\n",
      "Writing pyramid level 7\n",
      "Saved: /rsrch9/home/plm/idso_fa1_pathology/TIER1/paul-xenium/TMP-IL-Pilot/20250515__183240__CIMAC_Validation/registration/HnE/Xenium H&E Meso1-ICON2 TMA 5-21-2025_matching_orientation.ome.tif/he_I-6_HED.ome.tif\n",
      "Input H&E file: /rsrch9/home/plm/idso_fa1_pathology/TIER1/paul-xenium/TMP-IL-Pilot/20250515__183240__CIMAC_Validation/registration/HnE/Xenium H&E Meso1-ICON2 TMA 5-21-2025_matching_orientation.ome.tif/he_B-6.ome.tif\n",
      "Output HED file: /rsrch9/home/plm/idso_fa1_pathology/TIER1/paul-xenium/TMP-IL-Pilot/20250515__183240__CIMAC_Validation/registration/HnE/Xenium H&E Meso1-ICON2 TMA 5-21-2025_matching_orientation.ome.tif/he_B-6_HED.ome.tif\n"
     ]
    },
    {
     "name": "stderr",
     "output_type": "stream",
     "text": [
      "Extracting hematoxylin: 100%|██████████| 106/106 [10:50<00:00,  6.14s/it]\n"
     ]
    },
    {
     "name": "stdout",
     "output_type": "stream",
     "text": [
      "Writing pyramid level 0\n",
      "Writing pyramid level 1\n",
      "Writing pyramid level 2\n",
      "Writing pyramid level 3\n",
      "Writing pyramid level 4\n",
      "Writing pyramid level 5\n",
      "Writing pyramid level 6\n",
      "Writing pyramid level 7\n",
      "Saved: /rsrch9/home/plm/idso_fa1_pathology/TIER1/paul-xenium/TMP-IL-Pilot/20250515__183240__CIMAC_Validation/registration/HnE/Xenium H&E Meso1-ICON2 TMA 5-21-2025_matching_orientation.ome.tif/he_B-6_HED.ome.tif\n",
      "Input H&E file: /rsrch9/home/plm/idso_fa1_pathology/TIER1/paul-xenium/TMP-IL-Pilot/20250515__183240__CIMAC_Validation/registration/HnE/Xenium H&E Meso1-ICON2 TMA 5-21-2025_matching_orientation.ome.tif/he_C-6.ome.tif\n",
      "Output HED file: /rsrch9/home/plm/idso_fa1_pathology/TIER1/paul-xenium/TMP-IL-Pilot/20250515__183240__CIMAC_Validation/registration/HnE/Xenium H&E Meso1-ICON2 TMA 5-21-2025_matching_orientation.ome.tif/he_C-6_HED.ome.tif\n"
     ]
    },
    {
     "name": "stderr",
     "output_type": "stream",
     "text": [
      "Extracting hematoxylin: 100%|██████████| 106/106 [10:55<00:00,  6.18s/it]\n"
     ]
    },
    {
     "name": "stdout",
     "output_type": "stream",
     "text": [
      "Writing pyramid level 0\n",
      "Writing pyramid level 1\n",
      "Writing pyramid level 2\n",
      "Writing pyramid level 3\n",
      "Writing pyramid level 4\n",
      "Writing pyramid level 5\n",
      "Writing pyramid level 6\n",
      "Writing pyramid level 7\n",
      "Saved: /rsrch9/home/plm/idso_fa1_pathology/TIER1/paul-xenium/TMP-IL-Pilot/20250515__183240__CIMAC_Validation/registration/HnE/Xenium H&E Meso1-ICON2 TMA 5-21-2025_matching_orientation.ome.tif/he_C-6_HED.ome.tif\n",
      "Input H&E file: /rsrch9/home/plm/idso_fa1_pathology/TIER1/paul-xenium/TMP-IL-Pilot/20250515__183240__CIMAC_Validation/registration/HnE/Xenium H&E Meso1-ICON2 TMA 5-21-2025_matching_orientation.ome.tif/he_B-1.ome.tif\n",
      "Output HED file: /rsrch9/home/plm/idso_fa1_pathology/TIER1/paul-xenium/TMP-IL-Pilot/20250515__183240__CIMAC_Validation/registration/HnE/Xenium H&E Meso1-ICON2 TMA 5-21-2025_matching_orientation.ome.tif/he_B-1_HED.ome.tif\n"
     ]
    },
    {
     "name": "stderr",
     "output_type": "stream",
     "text": [
      "Extracting hematoxylin: 100%|██████████| 106/106 [10:37<00:00,  6.02s/it]\n"
     ]
    },
    {
     "name": "stdout",
     "output_type": "stream",
     "text": [
      "Writing pyramid level 0\n",
      "Writing pyramid level 1\n",
      "Writing pyramid level 2\n",
      "Writing pyramid level 3\n",
      "Writing pyramid level 4\n",
      "Writing pyramid level 5\n",
      "Writing pyramid level 6\n",
      "Writing pyramid level 7\n",
      "Saved: /rsrch9/home/plm/idso_fa1_pathology/TIER1/paul-xenium/TMP-IL-Pilot/20250515__183240__CIMAC_Validation/registration/HnE/Xenium H&E Meso1-ICON2 TMA 5-21-2025_matching_orientation.ome.tif/he_B-1_HED.ome.tif\n",
      "Input H&E file: /rsrch9/home/plm/idso_fa1_pathology/TIER1/paul-xenium/TMP-IL-Pilot/20250515__183240__CIMAC_Validation/registration/HnE/Xenium H&E Meso1-ICON2 TMA 5-21-2025_matching_orientation.ome.tif/he_B-4.ome.tif\n",
      "Output HED file: /rsrch9/home/plm/idso_fa1_pathology/TIER1/paul-xenium/TMP-IL-Pilot/20250515__183240__CIMAC_Validation/registration/HnE/Xenium H&E Meso1-ICON2 TMA 5-21-2025_matching_orientation.ome.tif/he_B-4_HED.ome.tif\n"
     ]
    },
    {
     "name": "stderr",
     "output_type": "stream",
     "text": [
      "Extracting hematoxylin: 100%|██████████| 106/106 [10:58<00:00,  6.22s/it]\n"
     ]
    },
    {
     "name": "stdout",
     "output_type": "stream",
     "text": [
      "Writing pyramid level 0\n",
      "Writing pyramid level 1\n",
      "Writing pyramid level 2\n",
      "Writing pyramid level 3\n",
      "Writing pyramid level 4\n",
      "Writing pyramid level 5\n",
      "Writing pyramid level 6\n",
      "Writing pyramid level 7\n",
      "Saved: /rsrch9/home/plm/idso_fa1_pathology/TIER1/paul-xenium/TMP-IL-Pilot/20250515__183240__CIMAC_Validation/registration/HnE/Xenium H&E Meso1-ICON2 TMA 5-21-2025_matching_orientation.ome.tif/he_B-4_HED.ome.tif\n",
      "Input H&E file: /rsrch9/home/plm/idso_fa1_pathology/TIER1/paul-xenium/TMP-IL-Pilot/20250515__183240__CIMAC_Validation/registration/HnE/Xenium H&E Meso1-ICON2 TMA 5-21-2025_matching_orientation.ome.tif/he_D-3.ome.tif\n",
      "Output HED file: /rsrch9/home/plm/idso_fa1_pathology/TIER1/paul-xenium/TMP-IL-Pilot/20250515__183240__CIMAC_Validation/registration/HnE/Xenium H&E Meso1-ICON2 TMA 5-21-2025_matching_orientation.ome.tif/he_D-3_HED.ome.tif\n"
     ]
    },
    {
     "name": "stderr",
     "output_type": "stream",
     "text": [
      "Extracting hematoxylin: 100%|██████████| 106/106 [10:51<00:00,  6.14s/it]\n"
     ]
    },
    {
     "name": "stdout",
     "output_type": "stream",
     "text": [
      "Writing pyramid level 0\n",
      "Writing pyramid level 1\n",
      "Writing pyramid level 2\n",
      "Writing pyramid level 3\n",
      "Writing pyramid level 4\n",
      "Writing pyramid level 5\n",
      "Writing pyramid level 6\n",
      "Writing pyramid level 7\n",
      "Saved: /rsrch9/home/plm/idso_fa1_pathology/TIER1/paul-xenium/TMP-IL-Pilot/20250515__183240__CIMAC_Validation/registration/HnE/Xenium H&E Meso1-ICON2 TMA 5-21-2025_matching_orientation.ome.tif/he_D-3_HED.ome.tif\n",
      "Input H&E file: /rsrch9/home/plm/idso_fa1_pathology/TIER1/paul-xenium/TMP-IL-Pilot/20250515__183240__CIMAC_Validation/registration/HnE/Xenium H&E Meso1-ICON2 TMA 5-21-2025_matching_orientation.ome.tif/he_D-2.ome.tif\n",
      "Output HED file: /rsrch9/home/plm/idso_fa1_pathology/TIER1/paul-xenium/TMP-IL-Pilot/20250515__183240__CIMAC_Validation/registration/HnE/Xenium H&E Meso1-ICON2 TMA 5-21-2025_matching_orientation.ome.tif/he_D-2_HED.ome.tif\n"
     ]
    },
    {
     "name": "stderr",
     "output_type": "stream",
     "text": [
      "Extracting hematoxylin: 100%|██████████| 106/106 [10:51<00:00,  6.15s/it]\n"
     ]
    },
    {
     "name": "stdout",
     "output_type": "stream",
     "text": [
      "Writing pyramid level 0\n",
      "Writing pyramid level 1\n",
      "Writing pyramid level 2\n",
      "Writing pyramid level 3\n",
      "Writing pyramid level 4\n",
      "Writing pyramid level 5\n",
      "Writing pyramid level 6\n",
      "Writing pyramid level 7\n",
      "Saved: /rsrch9/home/plm/idso_fa1_pathology/TIER1/paul-xenium/TMP-IL-Pilot/20250515__183240__CIMAC_Validation/registration/HnE/Xenium H&E Meso1-ICON2 TMA 5-21-2025_matching_orientation.ome.tif/he_D-2_HED.ome.tif\n",
      "Input H&E file: /rsrch9/home/plm/idso_fa1_pathology/TIER1/paul-xenium/TMP-IL-Pilot/20250515__183240__CIMAC_Validation/registration/HnE/Xenium H&E Meso1-ICON2 TMA 5-21-2025_matching_orientation.ome.tif/he_E-1.ome.tif\n",
      "Output HED file: /rsrch9/home/plm/idso_fa1_pathology/TIER1/paul-xenium/TMP-IL-Pilot/20250515__183240__CIMAC_Validation/registration/HnE/Xenium H&E Meso1-ICON2 TMA 5-21-2025_matching_orientation.ome.tif/he_E-1_HED.ome.tif\n"
     ]
    },
    {
     "name": "stderr",
     "output_type": "stream",
     "text": [
      "Extracting hematoxylin: 100%|██████████| 106/106 [10:41<00:00,  6.05s/it]\n"
     ]
    },
    {
     "name": "stdout",
     "output_type": "stream",
     "text": [
      "Writing pyramid level 0\n",
      "Writing pyramid level 1\n",
      "Writing pyramid level 2\n",
      "Writing pyramid level 3\n",
      "Writing pyramid level 4\n",
      "Writing pyramid level 5\n",
      "Writing pyramid level 6\n",
      "Writing pyramid level 7\n",
      "Saved: /rsrch9/home/plm/idso_fa1_pathology/TIER1/paul-xenium/TMP-IL-Pilot/20250515__183240__CIMAC_Validation/registration/HnE/Xenium H&E Meso1-ICON2 TMA 5-21-2025_matching_orientation.ome.tif/he_E-1_HED.ome.tif\n",
      "Input H&E file: /rsrch9/home/plm/idso_fa1_pathology/TIER1/paul-xenium/TMP-IL-Pilot/20250515__183240__CIMAC_Validation/registration/HnE/Xenium H&E Meso1-ICON2 TMA 5-21-2025_matching_orientation.ome.tif/he_J-1.ome.tif\n",
      "Output HED file: /rsrch9/home/plm/idso_fa1_pathology/TIER1/paul-xenium/TMP-IL-Pilot/20250515__183240__CIMAC_Validation/registration/HnE/Xenium H&E Meso1-ICON2 TMA 5-21-2025_matching_orientation.ome.tif/he_J-1_HED.ome.tif\n"
     ]
    },
    {
     "name": "stderr",
     "output_type": "stream",
     "text": [
      "Extracting hematoxylin: 100%|██████████| 106/106 [10:49<00:00,  6.13s/it]\n"
     ]
    },
    {
     "name": "stdout",
     "output_type": "stream",
     "text": [
      "Writing pyramid level 0\n",
      "Writing pyramid level 1\n",
      "Writing pyramid level 2\n",
      "Writing pyramid level 3\n",
      "Writing pyramid level 4\n",
      "Writing pyramid level 5\n",
      "Writing pyramid level 6\n",
      "Writing pyramid level 7\n",
      "Saved: /rsrch9/home/plm/idso_fa1_pathology/TIER1/paul-xenium/TMP-IL-Pilot/20250515__183240__CIMAC_Validation/registration/HnE/Xenium H&E Meso1-ICON2 TMA 5-21-2025_matching_orientation.ome.tif/he_J-1_HED.ome.tif\n",
      "Input H&E file: /rsrch9/home/plm/idso_fa1_pathology/TIER1/paul-xenium/TMP-IL-Pilot/20250515__183240__CIMAC_Validation/registration/HnE/Xenium H&E Meso1-ICON2 TMA 5-21-2025_matching_orientation.ome.tif/he_G-1.ome.tif\n",
      "Output HED file: /rsrch9/home/plm/idso_fa1_pathology/TIER1/paul-xenium/TMP-IL-Pilot/20250515__183240__CIMAC_Validation/registration/HnE/Xenium H&E Meso1-ICON2 TMA 5-21-2025_matching_orientation.ome.tif/he_G-1_HED.ome.tif\n"
     ]
    },
    {
     "name": "stderr",
     "output_type": "stream",
     "text": [
      "Extracting hematoxylin: 100%|██████████| 106/106 [10:51<00:00,  6.15s/it]\n"
     ]
    },
    {
     "name": "stdout",
     "output_type": "stream",
     "text": [
      "Writing pyramid level 0\n",
      "Writing pyramid level 1\n",
      "Writing pyramid level 2\n",
      "Writing pyramid level 3\n",
      "Writing pyramid level 4\n",
      "Writing pyramid level 5\n",
      "Writing pyramid level 6\n",
      "Writing pyramid level 7\n",
      "Saved: /rsrch9/home/plm/idso_fa1_pathology/TIER1/paul-xenium/TMP-IL-Pilot/20250515__183240__CIMAC_Validation/registration/HnE/Xenium H&E Meso1-ICON2 TMA 5-21-2025_matching_orientation.ome.tif/he_G-1_HED.ome.tif\n",
      "Input H&E file: /rsrch9/home/plm/idso_fa1_pathology/TIER1/paul-xenium/TMP-IL-Pilot/20250515__183240__CIMAC_Validation/registration/HnE/Xenium H&E Meso1-ICON2 TMA 5-21-2025_matching_orientation.ome.tif/he_D-4.ome.tif\n",
      "Output HED file: /rsrch9/home/plm/idso_fa1_pathology/TIER1/paul-xenium/TMP-IL-Pilot/20250515__183240__CIMAC_Validation/registration/HnE/Xenium H&E Meso1-ICON2 TMA 5-21-2025_matching_orientation.ome.tif/he_D-4_HED.ome.tif\n"
     ]
    },
    {
     "name": "stderr",
     "output_type": "stream",
     "text": [
      "Extracting hematoxylin: 100%|██████████| 106/106 [11:03<00:00,  6.26s/it]\n"
     ]
    },
    {
     "name": "stdout",
     "output_type": "stream",
     "text": [
      "Writing pyramid level 0\n",
      "Writing pyramid level 1\n",
      "Writing pyramid level 2\n",
      "Writing pyramid level 3\n",
      "Writing pyramid level 4\n",
      "Writing pyramid level 5\n",
      "Writing pyramid level 6\n",
      "Writing pyramid level 7\n",
      "Saved: /rsrch9/home/plm/idso_fa1_pathology/TIER1/paul-xenium/TMP-IL-Pilot/20250515__183240__CIMAC_Validation/registration/HnE/Xenium H&E Meso1-ICON2 TMA 5-21-2025_matching_orientation.ome.tif/he_D-4_HED.ome.tif\n",
      "Input H&E file: /rsrch9/home/plm/idso_fa1_pathology/TIER1/paul-xenium/TMP-IL-Pilot/20250515__183240__CIMAC_Validation/registration/HnE/Xenium H&E Meso1-ICON2 TMA 5-21-2025_matching_orientation.ome.tif/he_B-5.ome.tif\n",
      "Output HED file: /rsrch9/home/plm/idso_fa1_pathology/TIER1/paul-xenium/TMP-IL-Pilot/20250515__183240__CIMAC_Validation/registration/HnE/Xenium H&E Meso1-ICON2 TMA 5-21-2025_matching_orientation.ome.tif/he_B-5_HED.ome.tif\n"
     ]
    },
    {
     "name": "stderr",
     "output_type": "stream",
     "text": [
      "Extracting hematoxylin: 100%|██████████| 106/106 [10:35<00:00,  5.99s/it]\n"
     ]
    },
    {
     "name": "stdout",
     "output_type": "stream",
     "text": [
      "Writing pyramid level 0\n",
      "Writing pyramid level 1\n",
      "Writing pyramid level 2\n",
      "Writing pyramid level 3\n",
      "Writing pyramid level 4\n",
      "Writing pyramid level 5\n",
      "Writing pyramid level 6\n",
      "Writing pyramid level 7\n",
      "Saved: /rsrch9/home/plm/idso_fa1_pathology/TIER1/paul-xenium/TMP-IL-Pilot/20250515__183240__CIMAC_Validation/registration/HnE/Xenium H&E Meso1-ICON2 TMA 5-21-2025_matching_orientation.ome.tif/he_B-5_HED.ome.tif\n",
      "Input H&E file: /rsrch9/home/plm/idso_fa1_pathology/TIER1/paul-xenium/TMP-IL-Pilot/20250515__183240__CIMAC_Validation/registration/HnE/Xenium H&E Meso1-ICON2 TMA 5-21-2025_matching_orientation.ome.tif/he_A-5.ome.tif\n",
      "Output HED file: /rsrch9/home/plm/idso_fa1_pathology/TIER1/paul-xenium/TMP-IL-Pilot/20250515__183240__CIMAC_Validation/registration/HnE/Xenium H&E Meso1-ICON2 TMA 5-21-2025_matching_orientation.ome.tif/he_A-5_HED.ome.tif\n"
     ]
    },
    {
     "name": "stderr",
     "output_type": "stream",
     "text": [
      "Extracting hematoxylin: 100%|██████████| 106/106 [10:34<00:00,  5.99s/it]\n"
     ]
    },
    {
     "name": "stdout",
     "output_type": "stream",
     "text": [
      "Writing pyramid level 0\n",
      "Writing pyramid level 1\n",
      "Writing pyramid level 2\n",
      "Writing pyramid level 3\n",
      "Writing pyramid level 4\n",
      "Writing pyramid level 5\n",
      "Writing pyramid level 6\n",
      "Writing pyramid level 7\n",
      "Saved: /rsrch9/home/plm/idso_fa1_pathology/TIER1/paul-xenium/TMP-IL-Pilot/20250515__183240__CIMAC_Validation/registration/HnE/Xenium H&E Meso1-ICON2 TMA 5-21-2025_matching_orientation.ome.tif/he_A-5_HED.ome.tif\n"
     ]
    }
   ],
   "source": [
    "# %% Helper Function (from your example) for pyramid generation\n",
    "\n",
    "# core_name = \"A-2\"\n",
    "file_num = 0 # Selects the first H&E file from the dictionary\n",
    "skip_existing = False \n",
    "\n",
    "root_dir = \"/rsrch9/home/plm/idso_fa1_pathology/TIER1/paul-xenium/TMP-IL-Pilot/20250515__183240__CIMAC_Validation/registration\"\n",
    "data_dict = {\n",
    "    \"output-XETG00522__0066398__Region_1__20250515__183305\": \"Xenium H&E Meso1-ICON2 TMA 5-21-2025_matching_orientation.ome.tif\",\n",
    "    \"output-XETG00522__0066402__Region_1__20250515__183305\": \"Xenium H&E PCF TMA 5-28-2025_matching_orientation.ome.tif\"\n",
    "}\n",
    "\n",
    "xenium_folder = list(data_dict.keys())[file_num]\n",
    "slide_name = data_dict[xenium_folder]\n",
    "\n",
    "he_annot = os.path.join(root_dir, slide_name.replace(\".ome.tif\", \"_annot.geojson\"))\n",
    "                          \n",
    "# load core polygons ---------------------------------------\n",
    "gdf = gpd.read_file(he_annot)\n",
    "# gdf = gdf[gdf['isMissing'] == False].reset_index(drop=True)\n",
    "\n",
    "for idx, row in gdf.iterrows():\n",
    "    core_name = row.get('name', f'core_{idx + 1}')\n",
    "    ome_tif_path = os.path.join(root_dir, \"HnE\", slide_name, f\"he_{core_name}.ome.tif\")\n",
    "    \n",
    "    # Define the output path for the new HED image\n",
    "    output_filename = os.path.join(ome_tif_path.rsplit(\"/\", 1)[0], ome_tif_path.rsplit(\"/\", 1)[1].replace(\".ome.tif\", \"_HED.ome.tif\"))\n",
    "    if skip_existing and os.path.exists(output_filename):\n",
    "        print(f\"{output_filename} exists. Skipping\")\n",
    "        continue\n",
    "    \n",
    "    assert os.path.exists(ome_tif_path)\n",
    "    print(f\"Input H&E file: {ome_tif_path}\")\n",
    "    print(f\"Output HED file: {output_filename}\")\n",
    "    \n",
    "    # --- Hematoxylin Extraction Settings ---\n",
    "    tile_size = 1024\n",
    "    output_path = output_filename\n",
    "    temp_path = os.path.join(os.path.dirname(output_filename), \"hematoxylin_temp.dat\")\n",
    "    \n",
    "    save_as_uint8 = True  # Use uint8 for QuPath compatibility\n",
    "    subres_levels = 7     # Number of pyramid levels\n",
    "    \n",
    "    # --- Metadata from original image ---\n",
    "    with tf.TiffFile(ome_tif_path) as tif:\n",
    "        if not tif.is_ome:\n",
    "            raise RuntimeError(\"Input is not OME‑TIFF.\")\n",
    "        \n",
    "        ome_dict = tf.xml2dict(tif.ome_metadata)\n",
    "        pixels = ome_dict['OME']['Image']['Pixels']\n",
    "        \n",
    "        px_x = float(pixels['PhysicalSizeX'])\n",
    "        px_y = float(pixels['PhysicalSizeY'])\n",
    "        unit = pixels['PhysicalSizeXUnit']\n",
    "        \n",
    "        try:\n",
    "            channel_names = [ch['Name'] for ch in pixels['Channel']]\n",
    "        except (KeyError, TypeError):\n",
    "            channel_names = None\n",
    "        \n",
    "        photometric = 'rgb' if tif.pages[0].samplesperpixel == 3 else 'minisblack'\n",
    "    \n",
    "    # For the hematoxylin image (grayscale), override photometric and channel name\n",
    "    metadata = {\n",
    "        'PhysicalSizeX': px_x,\n",
    "        'PhysicalSizeXUnit': unit,\n",
    "        'PhysicalSizeY': px_y,\n",
    "        'PhysicalSizeYUnit': unit,\n",
    "        'Channel': {'Name': [\"hematoxylin\"]},\n",
    "    }\n",
    "    \n",
    "    # --- Load full-resolution image ---\n",
    "    vips_img = pyvips.Image.new_from_file(ome_tif_path, access=\"sequential\")\n",
    "    H, W = vips_img.height, vips_img.width\n",
    "    hema_memmap = np.memmap(temp_path, dtype=np.float32, mode='w+', shape=(H, W))\n",
    "    \n",
    "    # --- Tile-wise deconvolution ---\n",
    "    for y in tqdm(range(0, H, tile_size), desc=\"Extracting hematoxylin\"):\n",
    "        for x in range(0, W, tile_size):\n",
    "            h = min(tile_size, H - y)\n",
    "            w = min(tile_size, W - x)\n",
    "    \n",
    "            tile_vips = vips_img.crop(x, y, w, h)\n",
    "            tile_np = np.ndarray(\n",
    "                buffer=tile_vips.write_to_memory(),\n",
    "                dtype=np.uint8,\n",
    "                shape=(tile_vips.height, tile_vips.width, tile_vips.bands),\n",
    "            ).astype(np.float32) / 255.0\n",
    "    \n",
    "            hema_channel = separate_stains(tile_np, hed_from_rgb)[:, :, 0]\n",
    "            hema_memmap[y:y+h, x:x+w] = hema_channel\n",
    "    \n",
    "    # --- Save output using your write_ome_tif ---\n",
    "    hema_memmap = np.memmap(temp_path, dtype=np.float32, mode='r', shape=(H, W))\n",
    "    \n",
    "    if save_as_uint8:\n",
    "        hema_uint8 = rescale_intensity(hema_memmap, out_range=(0, 255)).astype(np.uint8)\n",
    "        write_ome_tif(\n",
    "            filename=output_path,\n",
    "            image=hema_uint8,\n",
    "            channel_names=[\"hematoxylin\"],\n",
    "            photometric_interp=\"minisblack\",\n",
    "            metadata=metadata,\n",
    "            subresolutions=subres_levels\n",
    "        )\n",
    "    else:\n",
    "        write_ome_tif(\n",
    "            filename=output_path,\n",
    "            image=hema_memmap,\n",
    "            channel_names=[\"hematoxylin\"],\n",
    "            photometric_interp=\"minisblack\",\n",
    "            metadata=metadata,\n",
    "            subresolutions=subres_levels\n",
    "        )\n",
    "    \n",
    "    # --- Cleanup ---\n",
    "    os.remove(temp_path)"
   ]
  },
  {
   "cell_type": "code",
   "execution_count": null,
   "id": "51945493-dd20-4e1d-95e8-9ea0b1c96559",
   "metadata": {},
   "outputs": [],
   "source": []
  }
 ],
 "metadata": {
  "kernelspec": {
   "display_name": "phacosta (py3.10.12)",
   "language": "python",
   "name": "phacosta"
  },
  "language_info": {
   "codemirror_mode": {
    "name": "ipython",
    "version": 3
   },
   "file_extension": ".py",
   "mimetype": "text/x-python",
   "name": "python",
   "nbconvert_exporter": "python",
   "pygments_lexer": "ipython3",
   "version": "3.10.12"
  }
 },
 "nbformat": 4,
 "nbformat_minor": 5
}
